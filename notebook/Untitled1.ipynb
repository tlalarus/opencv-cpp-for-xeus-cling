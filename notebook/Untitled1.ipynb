{
 "cells": [
  {
   "cell_type": "code",
   "execution_count": 1,
   "id": "removed-desperate",
   "metadata": {},
   "outputs": [],
   "source": [
    "#include <iostream>"
   ]
  },
  {
   "cell_type": "code",
   "execution_count": 2,
   "id": "behavioral-invalid",
   "metadata": {},
   "outputs": [],
   "source": [
    "#include <vector>"
   ]
  },
  {
   "cell_type": "code",
   "execution_count": 3,
   "id": "western-harmony",
   "metadata": {},
   "outputs": [],
   "source": [
    "using namespace std;"
   ]
  },
  {
   "cell_type": "code",
   "execution_count": 4,
   "id": "modified-madonna",
   "metadata": {},
   "outputs": [],
   "source": [
    "vector<int> src;\n",
    "for(int i=0; i<4; i++)\n",
    "{\n",
    "    src.push_back(i);\n",
    "}"
   ]
  },
  {
   "cell_type": "code",
   "execution_count": 12,
   "id": "median-regulation",
   "metadata": {},
   "outputs": [],
   "source": [
    "void Combination__(std::vector<int>& src, std::vector<std::vector<int>>& dst, int r)\n",
    "{\n",
    "/**\n",
    " * @brief fix first idx and n-1_C_r-1\n",
    " * @param src : src must be sorted in ascending order.\n",
    " * @param dst : all conbination result. if src size=n, dst shape= nCr * r\n",
    " */\n",
    "\n",
    "\tint n = src.size();\n",
    "\tint n_ = n-1;\n",
    "\tint r_ = r-1;\n",
    "\n",
    "\t// 0, 1로 이루어진 n_-1개 원소 중 r_-1개가 1, 나머지 n_-r_ 개가 0인 벡터 생성.\n",
    "    cout<<\"tmp= \";\n",
    "\tvector<bool> tmp;\n",
    "\tfor(int i=0; i<n_; i++)\n",
    "\t{\n",
    "\t\tif(n_-r_ <= i)\n",
    "\t\t\ttmp.push_back(true);\n",
    "\t\telse\n",
    "\t\t\ttmp.push_back(false);\n",
    "        cout << tmp[i] << \" \";\n",
    "\t}\n",
    "    cout << endl << endl;\n",
    "    \n",
    "\tfor(int i=0; i<n; i++)\n",
    "\t{\n",
    "\t\tvector<int> src_sub(n-1);\n",
    "\t\tsrc_sub.clear();\n",
    "\t\t\n",
    "\t\tint front = src[i]; // fitst index\n",
    "\t\t\n",
    "\t\tfor(int j=0; j<n; j++)\n",
    "\t\t{\n",
    "\t\t\tif(i!=j)\n",
    "\t\t\t\tsrc_sub.push_back(src[j]); //first idx\n",
    "\t\t}\n",
    "\t\t\n",
    "\t\t// print\n",
    "\t\tcout << \"first= \"<< front <<endl;\n",
    "\t\tfor(int j=0; j<src_sub.size(); j++)\n",
    "\t\t\tcout << src_sub[j] << \" \";\n",
    "\t\tcout << endl << endl;\n",
    "\n",
    "\t\t// n-1_C_r-1 수행\n",
    "\t\twhile(1)\n",
    "\t\t{\n",
    "\t\t\t//tmp.clear();\n",
    "\t\t\tvector<int> cols;\n",
    "\t\t\t//cols[0] = front;\n",
    "            cols.push_back(front);\n",
    "\n",
    "\t\t\tfor(int j=0; j<n_; j++)\n",
    "\t\t\t{\n",
    "                cout << tmp[j];\n",
    "\t\t\t\tif(tmp[j])\n",
    "\t\t\t\t{\n",
    "\t\t\t\t\t//cols[j+1] = src_sub[j];\n",
    "\t\t\t\t\tcols.push_back(src_sub[j]);\n",
    "\t\t\t\t}\n",
    "\t\t\t}\n",
    "\t\t\tdst.push_back(cols);\n",
    "            cout << endl;\n",
    "\t\t\t// if(!GetNextPerm(src, r))\n",
    "\t\t\t// \tbreak;\n",
    "\t\t\tif(!next_permutation(tmp.begin(), tmp.end()))\n",
    "\t\t\t\tbreak;\n",
    "\n",
    "\t\t}\n",
    "\n",
    "\t}\n",
    "\t// 첫번째 인덱스 고정\n",
    "\n",
    "\t// 첫번째 인덱스 옮겨담고 삭제\n",
    "\n",
    "\t// 나머지 인덱스 combination 수행.\n",
    "\n",
    "\t\n",
    "\n",
    "\t\n",
    "\t\n",
    "}"
   ]
  },
  {
   "cell_type": "code",
   "execution_count": 13,
   "id": "rental-polyester",
   "metadata": {},
   "outputs": [
    {
     "name": "stdout",
     "output_type": "stream",
     "text": [
      "tmp= 0 1 1 \n",
      "\n",
      "first= 0\n",
      "1 2 3 \n",
      "\n",
      "011\n",
      "101\n",
      "110\n",
      "first= 1\n",
      "0 2 3 \n",
      "\n",
      "011\n",
      "101\n",
      "110\n",
      "first= 2\n",
      "0 1 3 \n",
      "\n",
      "011\n",
      "101\n",
      "110\n",
      "first= 3\n",
      "0 1 2 \n",
      "\n",
      "011\n",
      "101\n",
      "110\n"
     ]
    }
   ],
   "source": [
    "vector<vector<int>> dst_;\n",
    "Combination__(src, dst_, 3);"
   ]
  },
  {
   "cell_type": "code",
   "execution_count": 14,
   "id": "intimate-merchandise",
   "metadata": {},
   "outputs": [
    {
     "name": "stdout",
     "output_type": "stream",
     "text": [
      "023\n",
      "013\n",
      "012\n",
      "123\n",
      "103\n",
      "102\n",
      "213\n",
      "203\n",
      "201\n",
      "312\n",
      "302\n",
      "301\n"
     ]
    }
   ],
   "source": [
    "for(int i=0; i< dst_.size(); i++)\n",
    "{\n",
    "    for(int j=0; j<dst_[i].size(); j++)\n",
    "        cout << dst_[i][j];\n",
    "    cout << endl;\n",
    "}"
   ]
  },
  {
   "cell_type": "code",
   "execution_count": 16,
   "id": "canadian-denial",
   "metadata": {},
   "outputs": [
    {
     "name": "stdout",
     "output_type": "stream",
     "text": [
      "12\n"
     ]
    }
   ],
   "source": [
    "cout << dst_.size() <<endl;"
   ]
  },
  {
   "cell_type": "code",
   "execution_count": 17,
   "id": "stuffed-nightlife",
   "metadata": {},
   "outputs": [
    {
     "name": "stdout",
     "output_type": "stream",
     "text": [
      "tmp= 0 0 0 0 1 1 \n",
      "\n",
      "first= 0\n",
      "1 2 3 4 5 6 \n",
      "\n",
      "000011\n",
      "000101\n",
      "000110\n",
      "001001\n",
      "001010\n",
      "001100\n",
      "010001\n",
      "010010\n",
      "010100\n",
      "011000\n",
      "100001\n",
      "100010\n",
      "100100\n",
      "101000\n",
      "110000\n",
      "first= 1\n",
      "0 2 3 4 5 6 \n",
      "\n",
      "000011\n",
      "000101\n",
      "000110\n",
      "001001\n",
      "001010\n",
      "001100\n",
      "010001\n",
      "010010\n",
      "010100\n",
      "011000\n",
      "100001\n",
      "100010\n",
      "100100\n",
      "101000\n",
      "110000\n",
      "first= 2\n",
      "0 1 3 4 5 6 \n",
      "\n",
      "000011\n",
      "000101\n",
      "000110\n",
      "001001\n",
      "001010\n",
      "001100\n",
      "010001\n",
      "010010\n",
      "010100\n",
      "011000\n",
      "100001\n",
      "100010\n",
      "100100\n",
      "101000\n",
      "110000\n",
      "first= 3\n",
      "0 1 2 4 5 6 \n",
      "\n",
      "000011\n",
      "000101\n",
      "000110\n",
      "001001\n",
      "001010\n",
      "001100\n",
      "010001\n",
      "010010\n",
      "010100\n",
      "011000\n",
      "100001\n",
      "100010\n",
      "100100\n",
      "101000\n",
      "110000\n",
      "first= 4\n",
      "0 1 2 3 5 6 \n",
      "\n",
      "000011\n",
      "000101\n",
      "000110\n",
      "001001\n",
      "001010\n",
      "001100\n",
      "010001\n",
      "010010\n",
      "010100\n",
      "011000\n",
      "100001\n",
      "100010\n",
      "100100\n",
      "101000\n",
      "110000\n",
      "first= 5\n",
      "0 1 2 3 4 6 \n",
      "\n",
      "000011\n",
      "000101\n",
      "000110\n",
      "001001\n",
      "001010\n",
      "001100\n",
      "010001\n",
      "010010\n",
      "010100\n",
      "011000\n",
      "100001\n",
      "100010\n",
      "100100\n",
      "101000\n",
      "110000\n",
      "first= 6\n",
      "0 1 2 3 4 5 \n",
      "\n",
      "000011\n",
      "000101\n",
      "000110\n",
      "001001\n",
      "001010\n",
      "001100\n",
      "010001\n",
      "010010\n",
      "010100\n",
      "011000\n",
      "100001\n",
      "100010\n",
      "100100\n",
      "101000\n",
      "110000\n"
     ]
    }
   ],
   "source": [
    "src.clear();\n",
    "for(int i=0; i<7; i++)\n",
    "{\n",
    "    src.push_back(i);\n",
    "}\n",
    "dst_.clear();\n",
    "\n",
    "Combination__(src, dst_, 3);"
   ]
  },
  {
   "cell_type": "code",
   "execution_count": 18,
   "id": "united-doctrine",
   "metadata": {},
   "outputs": [
    {
     "name": "stdout",
     "output_type": "stream",
     "text": [
      "105\n"
     ]
    }
   ],
   "source": [
    "cout << dst_.size() << endl;"
   ]
  },
  {
   "cell_type": "code",
   "execution_count": 20,
   "id": "smoking-bundle",
   "metadata": {},
   "outputs": [
    {
     "name": "stdout",
     "output_type": "stream",
     "text": [
      "tmp= 0 1 1 \n",
      "\n",
      "first= 0\n",
      "1 2 3 \n",
      "\n",
      "011\n",
      "101\n",
      "110\n",
      "first= 1\n",
      "0 2 3 \n",
      "\n",
      "011\n",
      "101\n",
      "110\n",
      "first= 2\n",
      "0 1 3 \n",
      "\n",
      "011\n",
      "101\n",
      "110\n",
      "first= 3\n",
      "0 1 2 \n",
      "\n",
      "011\n",
      "101\n",
      "110\n"
     ]
    }
   ],
   "source": [
    "src.clear();\n",
    "for(int i=0; i<4; i++)\n",
    "{\n",
    "    src.push_back(i);\n",
    "}\n",
    "dst_.clear();\n",
    "\n",
    "Combination__(src, dst_, 3);"
   ]
  },
  {
   "cell_type": "code",
   "execution_count": 21,
   "id": "loaded-interest",
   "metadata": {},
   "outputs": [
    {
     "name": "stdout",
     "output_type": "stream",
     "text": [
      "0 2 3 \n",
      "0 1 3 \n",
      "0 1 2 \n",
      "1 2 3 \n",
      "1 0 3 \n",
      "1 0 2 \n",
      "2 1 3 \n",
      "2 0 3 \n",
      "2 0 1 \n",
      "3 1 2 \n",
      "3 0 2 \n",
      "3 0 1 \n"
     ]
    }
   ],
   "source": [
    "for(int i=0; i< dst_.size(); i++)\n",
    "{\n",
    "    for(int j=0; j<dst_[i].size(); j++)\n",
    "    {\n",
    "        cout << dst_[i][j] << \" \";\n",
    "    }\n",
    "    cout << endl;\n",
    "}"
   ]
  },
  {
   "cell_type": "code",
   "execution_count": null,
   "id": "entitled-bread",
   "metadata": {},
   "outputs": [],
   "source": []
  }
 ],
 "metadata": {
  "kernelspec": {
   "display_name": "C++14",
   "language": "C++14",
   "name": "xcpp14"
  },
  "language_info": {
   "codemirror_mode": "text/x-c++src",
   "file_extension": ".cpp",
   "mimetype": "text/x-c++src",
   "name": "c++",
   "version": "14"
  }
 },
 "nbformat": 4,
 "nbformat_minor": 5
}
