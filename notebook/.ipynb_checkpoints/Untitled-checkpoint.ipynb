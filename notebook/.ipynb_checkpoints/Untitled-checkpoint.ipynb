{
 "cells": [
  {
   "cell_type": "markdown",
   "id": "fluid-sharp",
   "metadata": {},
   "source": [
    "## unique_ptr 사용예제"
   ]
  },
  {
   "cell_type": "code",
   "execution_count": 1,
   "id": "mathematical-clothing",
   "metadata": {},
   "outputs": [],
   "source": [
    "#include <iostream>"
   ]
  },
  {
   "cell_type": "code",
   "execution_count": 2,
   "id": "appropriate-migration",
   "metadata": {},
   "outputs": [],
   "source": [
    "#include <vector>"
   ]
  },
  {
   "cell_type": "code",
   "execution_count": 3,
   "id": "olympic-tracker",
   "metadata": {},
   "outputs": [],
   "source": [
    "#include <memory>"
   ]
  },
  {
   "cell_type": "code",
   "execution_count": 4,
   "id": "domestic-pharmacy",
   "metadata": {},
   "outputs": [],
   "source": [
    "using namespace std;"
   ]
  },
  {
   "cell_type": "markdown",
   "id": "lightweight-campaign",
   "metadata": {},
   "source": [
    "#### 멤버변수로 사용"
   ]
  },
  {
   "cell_type": "code",
   "execution_count": 5,
   "id": "narrative-conference",
   "metadata": {},
   "outputs": [],
   "source": [
    "class A\n",
    "{\n",
    "public:\n",
    "    A();\n",
    "private:\n",
    "    unique_ptr<int[]> myPtr;\n",
    "};"
   ]
  },
  {
   "cell_type": "code",
   "execution_count": 6,
   "id": "authentic-myanmar",
   "metadata": {},
   "outputs": [],
   "source": [
    "A::A() : myPtr()\n",
    "{\n",
    "    int len = 5;\n",
    "    unique_ptr<int[]> tmp(new int[len]);\n",
    "    myPtr = move(tmp);\n",
    "    \n",
    "    int* arrPtr = myPtr.get();\n",
    "    for(int i=0; i<len; i++)\n",
    "    {\n",
    "        arrPtr[i] = i;\n",
    "    }\n",
    "}"
   ]
  },
  {
   "cell_type": "code",
   "execution_count": 7,
   "id": "funky-ideal",
   "metadata": {},
   "outputs": [],
   "source": [
    "typedef struct{\n",
    "    vector<int> v1;\n",
    "    vector<int> v2;\n",
    "    float err;\n",
    "}Set;"
   ]
  },
  {
   "cell_type": "code",
   "execution_count": 8,
   "id": "subject-herald",
   "metadata": {},
   "outputs": [],
   "source": [
    "vector<int> vec1;\n",
    "vector<int> vec2;\n",
    "for(int i=0; i<5; i++)\n",
    "{\n",
    "    vec1.push_back(i);\n",
    "    vec2.push_back(i+2);\n",
    "}"
   ]
  },
  {
   "cell_type": "code",
   "execution_count": 9,
   "id": "organized-gilbert",
   "metadata": {},
   "outputs": [],
   "source": [
    "Set set1 = {vec1, vec2, 0.5f};"
   ]
  },
  {
   "cell_type": "code",
   "execution_count": 10,
   "id": "recovered-frank",
   "metadata": {},
   "outputs": [
    {
     "name": "stdout",
     "output_type": "stream",
     "text": [
      "0 1 2 3 4 "
     ]
    }
   ],
   "source": [
    "for(int i=0; i<5; i++)\n",
    "{\n",
    "    cout<< set1.v1[i] << \" \";\n",
    "}\n"
   ]
  },
  {
   "cell_type": "code",
   "execution_count": 11,
   "id": "actual-convergence",
   "metadata": {},
   "outputs": [
    {
     "name": "stdout",
     "output_type": "stream",
     "text": [
      "2 3 4 5 6 "
     ]
    }
   ],
   "source": [
    "for(int i=0; i<5; i++)\n",
    "{\n",
    "    cout<< set1.v2[i] << \" \";\n",
    "}\n"
   ]
  },
  {
   "cell_type": "code",
   "execution_count": 12,
   "id": "manual-suffering",
   "metadata": {},
   "outputs": [
    {
     "name": "stdout",
     "output_type": "stream",
     "text": [
      "0.5"
     ]
    }
   ],
   "source": [
    "cout << set1.err;"
   ]
  },
  {
   "cell_type": "markdown",
   "id": "corresponding-float",
   "metadata": {},
   "source": [
    "### 구조체 정렬 테스트"
   ]
  },
  {
   "cell_type": "code",
   "execution_count": 13,
   "id": "pressing-programming",
   "metadata": {},
   "outputs": [],
   "source": [
    "Set set2 = {vec1, vec2, 0.2f};\n",
    "Set set3 = {vec1, vec2, 5.0f};\n",
    "Set set4 = {vec1, vec2, 3.0f};"
   ]
  },
  {
   "cell_type": "code",
   "execution_count": 14,
   "id": "ignored-configuration",
   "metadata": {},
   "outputs": [],
   "source": [
    "vector<Set> map_;\n",
    "map_.push_back(set1);\n",
    "map_.push_back(set2);\n",
    "map_.push_back(set3);\n",
    "map_.push_back(set4);"
   ]
  },
  {
   "cell_type": "code",
   "execution_count": 15,
   "id": "beautiful-andrews",
   "metadata": {},
   "outputs": [],
   "source": [
    "bool cpr(const Set& s1, const Set& s2)\n",
    "{\n",
    "    if(s1.err < s2.err)\n",
    "    {\n",
    "        return true;\n",
    "    }\n",
    "    else\n",
    "    {\n",
    "        return false;\n",
    "    }\n",
    "}"
   ]
  },
  {
   "cell_type": "code",
   "execution_count": 16,
   "id": "limited-mississippi",
   "metadata": {},
   "outputs": [],
   "source": [
    "#include <algorithm>"
   ]
  },
  {
   "cell_type": "code",
   "execution_count": 17,
   "id": "golden-detail",
   "metadata": {},
   "outputs": [
    {
     "name": "stdout",
     "output_type": "stream",
     "text": [
      "0.5 0.2 5 3 "
     ]
    }
   ],
   "source": [
    "for(auto set: map_)\n",
    "    cout <<set.err<<\" \";"
   ]
  },
  {
   "cell_type": "code",
   "execution_count": 18,
   "id": "prepared-utilization",
   "metadata": {},
   "outputs": [],
   "source": [
    "stable_sort(map_.begin(), map_.end(), cpr);"
   ]
  },
  {
   "cell_type": "code",
   "execution_count": 19,
   "id": "grand-consumer",
   "metadata": {},
   "outputs": [
    {
     "name": "stdout",
     "output_type": "stream",
     "text": [
      "0.2 0.5 3 5 "
     ]
    }
   ],
   "source": [
    "for(auto set: map_)\n",
    "    cout <<set.err<<\" \";"
   ]
  },
  {
   "cell_type": "code",
   "execution_count": 20,
   "id": "appointed-blank",
   "metadata": {},
   "outputs": [],
   "source": [
    "Set best = map_.front();"
   ]
  },
  {
   "cell_type": "code",
   "execution_count": 21,
   "id": "thick-interval",
   "metadata": {},
   "outputs": [
    {
     "name": "stdout",
     "output_type": "stream",
     "text": [
      "0.2"
     ]
    }
   ],
   "source": [
    "cout << best.err;"
   ]
  },
  {
   "cell_type": "code",
   "execution_count": null,
   "id": "round-apple",
   "metadata": {},
   "outputs": [],
   "source": []
  }
 ],
 "metadata": {
  "kernelspec": {
   "display_name": "C++11",
   "language": "C++11",
   "name": "xcpp11"
  },
  "language_info": {
   "codemirror_mode": "text/x-c++src",
   "file_extension": ".cpp",
   "mimetype": "text/x-c++src",
   "name": "c++",
   "version": "11"
  }
 },
 "nbformat": 4,
 "nbformat_minor": 5
}
