{
 "cells": [
  {
   "cell_type": "code",
   "execution_count": 9,
   "id": "wanted-bouquet",
   "metadata": {},
   "outputs": [],
   "source": [
    "#pragma cling add_library_path(\"/usr/local/lib\")\n",
    "#pragma cling add_include_path(\"/usr/local/include\")\n",
    "#pragma cling add_include_path(\"/usr/local/include/opencv2\")\n",
    "#pragma cling load(\"/usr/local/lib/libopencv_highgui.so.3.4.6\")"
   ]
  },
  {
   "cell_type": "code",
   "execution_count": 11,
   "id": "restricted-semiconductor",
   "metadata": {},
   "outputs": [],
   "source": [
    "#include <iostream>\n",
    "#include <opencv2/highgui.hpp>\n",
    "using namespace std;\n",
    "using namespace cv;"
   ]
  },
  {
   "cell_type": "code",
   "execution_count": 12,
   "id": "restricted-error",
   "metadata": {},
   "outputs": [
    {
     "name": "stdout",
     "output_type": "stream",
     "text": [
      "Opencv version: 3.4.6\n"
     ]
    }
   ],
   "source": [
    "cout << \"Opencv version: \" << CV_VERSION <<endl;"
   ]
  },
  {
   "cell_type": "code",
   "execution_count": null,
   "id": "saved-thanksgiving",
   "metadata": {},
   "outputs": [],
   "source": []
  }
 ],
 "metadata": {
  "kernelspec": {
   "display_name": "C++14",
   "language": "C++14",
   "name": "xcpp14"
  },
  "language_info": {
   "codemirror_mode": "text/x-c++src",
   "file_extension": ".cpp",
   "mimetype": "text/x-c++src",
   "name": "c++",
   "version": "14"
  }
 },
 "nbformat": 4,
 "nbformat_minor": 5
}
