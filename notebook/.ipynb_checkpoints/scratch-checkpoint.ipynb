{
 "cells": [
  {
   "cell_type": "markdown",
   "id": "civic-proposition",
   "metadata": {},
   "source": [
    "### c++ boost::filesystem test"
   ]
  },
  {
   "cell_type": "code",
   "execution_count": 1,
   "id": "compound-dream",
   "metadata": {},
   "outputs": [],
   "source": [
    "#include <iostream>"
   ]
  },
  {
   "cell_type": "code",
   "execution_count": 2,
   "id": "stupid-heater",
   "metadata": {},
   "outputs": [],
   "source": [
    "#include <sstream>"
   ]
  },
  {
   "cell_type": "code",
   "execution_count": 3,
   "id": "governmental-patrick",
   "metadata": {},
   "outputs": [],
   "source": [
    "#include <string>"
   ]
  },
  {
   "cell_type": "code",
   "execution_count": 4,
   "id": "aggressive-nothing",
   "metadata": {},
   "outputs": [],
   "source": [
    "#include <vector>"
   ]
  },
  {
   "cell_type": "code",
   "execution_count": 5,
   "id": "unavailable-boating",
   "metadata": {},
   "outputs": [],
   "source": [
    "using namespace std;"
   ]
  },
  {
   "cell_type": "code",
   "execution_count": 1,
   "id": "spare-grammar",
   "metadata": {},
   "outputs": [],
   "source": [
    "typedef struct{\n",
    "    int x;\n",
    "    int y;\n",
    "}Point;"
   ]
  },
  {
   "cell_type": "code",
   "execution_count": 2,
   "id": "worst-belgium",
   "metadata": {},
   "outputs": [],
   "source": [
    "Point p1 = {5,7};\n",
    "Point p2;\n",
    "p2.x = -p1.x;\n",
    "p2.y = -p1.y;"
   ]
  },
  {
   "cell_type": "code",
   "execution_count": 3,
   "id": "connected-congo",
   "metadata": {},
   "outputs": [],
   "source": [
    "#include <iostream>"
   ]
  },
  {
   "cell_type": "code",
   "execution_count": 4,
   "id": "ongoing-image",
   "metadata": {},
   "outputs": [],
   "source": [
    "using namespace std;"
   ]
  },
  {
   "cell_type": "code",
   "execution_count": 6,
   "id": "baking-receptor",
   "metadata": {},
   "outputs": [
    {
     "name": "stdout",
     "output_type": "stream",
     "text": [
      "5 7"
     ]
    }
   ],
   "source": [
    "cout << p1.x << \" \" << p1.y;"
   ]
  },
  {
   "cell_type": "code",
   "execution_count": 7,
   "id": "moving-journalism",
   "metadata": {},
   "outputs": [
    {
     "name": "stdout",
     "output_type": "stream",
     "text": [
      "-5 -7"
     ]
    }
   ],
   "source": [
    "cout << p2.x << \" \" << p2.y;"
   ]
  },
  {
   "cell_type": "code",
   "execution_count": null,
   "id": "commercial-version",
   "metadata": {},
   "outputs": [],
   "source": []
  },
  {
   "cell_type": "code",
   "execution_count": null,
   "id": "gothic-orleans",
   "metadata": {},
   "outputs": [],
   "source": []
  },
  {
   "cell_type": "code",
   "execution_count": 10,
   "id": "patent-abuse",
   "metadata": {},
   "outputs": [],
   "source": [
    "vector<string> tokenize_getline(const string& data, const char delimiter);"
   ]
  },
  {
   "cell_type": "code",
   "execution_count": 11,
   "id": "shaped-choir",
   "metadata": {},
   "outputs": [
    {
     "name": "stderr",
     "output_type": "stream",
     "text": [
      "\u001b[1minput_line_17:3:1: \u001b[0m\u001b[0;1;31merror: \u001b[0m\u001b[1mfunction definition is not allowed here\u001b[0m\n",
      "{\n",
      "\u001b[0;1;32m^\n",
      "\u001b[0m"
     ]
    },
    {
     "ename": "Interpreter Error",
     "evalue": "",
     "output_type": "error",
     "traceback": [
      "Interpreter Error: "
     ]
    }
   ],
   "source": [
    "vector<string> tokenize_getline(const string& data, const char delimiter)\n",
    "{\n",
    "    vector<string> result;\n",
    "    string token;\n",
    "    stringstream ss(data);\n",
    "    \n",
    "    while(getline(ss, token, delimiter)){\n",
    "        result.push_back(token);\n",
    "    }\n",
    "    return result;\n",
    "\n",
    "}"
   ]
  },
  {
   "cell_type": "code",
   "execution_count": null,
   "id": "heard-cambridge",
   "metadata": {},
   "outputs": [],
   "source": []
  }
 ],
 "metadata": {
  "kernelspec": {
   "display_name": "C++14",
   "language": "C++14",
   "name": "xcpp14"
  },
  "language_info": {
   "codemirror_mode": "text/x-c++src",
   "file_extension": ".cpp",
   "mimetype": "text/x-c++src",
   "name": "c++",
   "version": "14"
  }
 },
 "nbformat": 4,
 "nbformat_minor": 5
}
