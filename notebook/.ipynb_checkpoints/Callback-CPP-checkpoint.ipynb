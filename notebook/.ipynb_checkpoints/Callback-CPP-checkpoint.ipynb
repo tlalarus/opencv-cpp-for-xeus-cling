{
 "cells": [
  {
   "cell_type": "code",
   "execution_count": 1,
   "id": "seven-greece",
   "metadata": {},
   "outputs": [],
   "source": [
    "#include <iostream>"
   ]
  },
  {
   "cell_type": "code",
   "execution_count": 2,
   "id": "endangered-sustainability",
   "metadata": {},
   "outputs": [],
   "source": [
    "#include <functional>"
   ]
  },
  {
   "cell_type": "markdown",
   "id": "finite-fluid",
   "metadata": {},
   "source": [
    "## callback 기본형"
   ]
  },
  {
   "cell_type": "markdown",
   "id": "fatal-stupid",
   "metadata": {},
   "source": [
    "Server-Client 콜백 시스템"
   ]
  },
  {
   "cell_type": "code",
   "execution_count": 3,
   "id": "enhanced-savage",
   "metadata": {},
   "outputs": [],
   "source": [
    "using namespace std;"
   ]
  },
  {
   "cell_type": "code",
   "execution_count": 4,
   "id": "quarterly-sigma",
   "metadata": {},
   "outputs": [],
   "source": [
    "typedef function<void(int)> pFunc;"
   ]
  },
  {
   "cell_type": "code",
   "execution_count": 5,
   "id": "critical-italy",
   "metadata": {},
   "outputs": [],
   "source": [
    "class Server{\n",
    "    //CB_FUNC m_cb;\n",
    "    pFunc m_cb;\n",
    "    \n",
    "public:\n",
    "    void RegisterCB(pFunc cb){\n",
    "        m_cb = move(cb);\n",
    "    }\n",
    "    \n",
    "    void StartCB(){\n",
    "        m_cb(1); // params of callback function\n",
    "    }\n",
    "};"
   ]
  },
  {
   "cell_type": "code",
   "execution_count": 6,
   "id": "human-divorce",
   "metadata": {},
   "outputs": [],
   "source": [
    "class Client{\n",
    "    \n",
    "public:\n",
    "    void TestFunc(int n){\n",
    "        if(n == 1)\n",
    "            cout << \"True\" << endl;\n",
    "        else\n",
    "            cout << \"False\" << endl;\n",
    "        \n",
    "    }\n",
    "};"
   ]
  },
  {
   "cell_type": "code",
   "execution_count": 7,
   "id": "criminal-kansas",
   "metadata": {},
   "outputs": [],
   "source": [
    "Server server;"
   ]
  },
  {
   "cell_type": "code",
   "execution_count": 8,
   "id": "developmental-tracy",
   "metadata": {},
   "outputs": [],
   "source": [
    "Client client;"
   ]
  },
  {
   "cell_type": "code",
   "execution_count": 9,
   "id": "closed-manual",
   "metadata": {},
   "outputs": [],
   "source": [
    "server.RegisterCB(std::bind(&Client::TestFunc, client, std::placeholders::_1));"
   ]
  },
  {
   "cell_type": "code",
   "execution_count": 10,
   "id": "familiar-faith",
   "metadata": {},
   "outputs": [
    {
     "name": "stdout",
     "output_type": "stream",
     "text": [
      "True\n"
     ]
    }
   ],
   "source": [
    "server.StartCB();"
   ]
  },
  {
   "cell_type": "markdown",
   "id": "comprehensive-berlin",
   "metadata": {},
   "source": [
    "## callback test1"
   ]
  },
  {
   "cell_type": "markdown",
   "id": "steady-proposal",
   "metadata": {},
   "source": [
    "카메라 스트리밍에 적용해본다. CCam, CBuf 클래스가 있다. 그리고 handler 클래스 멤버함수(OnImage)를 콜백함수로 등록하고 싶다. \n",
    "CCam 클래스의 멤버변수로 handler, CBuf 클래스를 가짐. \n",
    "\n",
    "\n",
    "OnImage함수는 인자로 CCam 클래스 포인터를 인자로 받고 CCam의 멤버변수인 CBuf의 버퍼공간에 OnImage"
   ]
  },
  {
   "cell_type": "markdown",
   "id": "noted-allergy",
   "metadata": {},
   "source": [
    "1. 콜백 함수 형태 정의"
   ]
  },
  {
   "cell_type": "code",
   "execution_count": 11,
   "id": "trying-stroke",
   "metadata": {},
   "outputs": [],
   "source": [
    "#include <vector>"
   ]
  },
  {
   "cell_type": "code",
   "execution_count": 12,
   "id": "incorporate-algorithm",
   "metadata": {},
   "outputs": [],
   "source": [
    "#include <memory>"
   ]
  },
  {
   "cell_type": "code",
   "execution_count": 13,
   "id": "given-tuning",
   "metadata": {},
   "outputs": [],
   "source": [
    "#include <thread>"
   ]
  },
  {
   "cell_type": "code",
   "execution_count": 14,
   "id": "precise-object",
   "metadata": {},
   "outputs": [],
   "source": [
    "#include <mutex>"
   ]
  },
  {
   "cell_type": "code",
   "execution_count": 15,
   "id": "military-abraham",
   "metadata": {},
   "outputs": [],
   "source": [
    "using namespace std;"
   ]
  },
  {
   "cell_type": "code",
   "execution_count": 16,
   "id": "express-chuck",
   "metadata": {},
   "outputs": [],
   "source": [
    "class CBuf;\n",
    "class CHandler;\n",
    "class CCam;"
   ]
  },
  {
   "cell_type": "code",
   "execution_count": 17,
   "id": "minor-genome",
   "metadata": {},
   "outputs": [],
   "source": [
    "class CBuf{\n",
    "public:\n",
    "    vector<int> m_vec;\n",
    "    int write_cnt;\n",
    "    int read_cnt;\n",
    "    \n",
    "    CBuf(){ Reset(); }\n",
    "    ~CBuf(){}\n",
    "    \n",
    "    void Reset(){\n",
    "        m_vec.clear();\n",
    "        write_cnt = 0;\n",
    "        read_cnt = 0;\n",
    "    }\n",
    "    \n",
    "    void SetFrame(int value){\n",
    "        m_vec.push_back(value);\n",
    "        write_cnt++;\n",
    "    }\n",
    "    \n",
    "    int GetFrame(){\n",
    "        int cur_val = m_vec[read_cnt];\n",
    "        read_cnt++;\n",
    "        return cur_val;\n",
    "    }\n",
    "}"
   ]
  },
  {
   "cell_type": "code",
   "execution_count": 18,
   "id": "analyzed-delay",
   "metadata": {},
   "outputs": [],
   "source": [
    "class CHandler{\n",
    "private:\n",
    "    void* m_pClass;\n",
    "public:\n",
    "    CHandler(void *pUser){\n",
    "        m_pClass = pUser;\n",
    "    }\n",
    "    ~CHandler(){\n",
    "        //delete m_pClass;\n",
    "        m_pClass = nullptr;\n",
    "    }\n",
    "    \n",
    "    void OnImageEvent(int value);\n",
    "}"
   ]
  },
  {
   "cell_type": "code",
   "execution_count": 19,
   "id": "swedish-command",
   "metadata": {},
   "outputs": [],
   "source": [
    "class CCam{\n",
    "private:\n",
    "    int m_value;\n",
    "    pFunc m_cb;\n",
    "public:\n",
    "    CCam(){\n",
    "        m_buf = make_unique<CBuf>();\n",
    "    }\n",
    "    ~CCam(){\n",
    "        delete m_handler;\n",
    "    }\n",
    "    \n",
    "    void RegisterHandler(){\n",
    "        //m_handler = make_unique<CHandler>(this); // 클래스 포인터 저장한 핸들러 생성\n",
    "        m_handler = new CHandler(this);\n",
    "        m_cb = bind(&CHandler::OnImageEvent, m_handler, placeholders::_1); // 핸들러 등록\n",
    "    }\n",
    "    \n",
    "    void SetValue(int value){\n",
    "        m_value = value;\n",
    "    }\n",
    "    int GetValue(){\n",
    "       return m_value; \n",
    "    }\n",
    "    void Run(){\n",
    "        // 이 함수가 호출되면 핸들러가 콜백함수를 호출한다.\n",
    "        // CHandler::OnImageEvent\n",
    "        int value = GetValue();\n",
    "        m_cb(value);\n",
    "    }\n",
    "        \n",
    "    //unique_ptr<CHandler> m_handler;\n",
    "    CHandler* m_handler;\n",
    "    unique_ptr<CBuf> m_buf;\n",
    "    \n",
    "    //thread m_thread_acquisition;\n",
    "    //mutex m_mutex_acquisition;\n",
    "    \n",
    "}"
   ]
  },
  {
   "cell_type": "code",
   "execution_count": 20,
   "id": "documented-belgium",
   "metadata": {},
   "outputs": [],
   "source": [
    "void CHandler::OnImageEvent(int value)\n",
    "{ // 콜백함수 형태 void func(int)\n",
    "    CCam* pClass = (CCam*) m_pClass;\n",
    "    pClass->m_buf->SetFrame(value); // 멤버변수로 받아놓은 버퍼포인터에 접근해서 값을 저장한다.\n",
    "    cout << \" Save buffer \" << value << endl;    \n",
    "}"
   ]
  },
  {
   "cell_type": "code",
   "execution_count": 22,
   "id": "skilled-amazon",
   "metadata": {},
   "outputs": [],
   "source": [
    "CCam cam;"
   ]
  },
  {
   "cell_type": "code",
   "execution_count": 23,
   "id": "graduate-prevention",
   "metadata": {},
   "outputs": [],
   "source": [
    "cam.RegisterHandler();"
   ]
  },
  {
   "cell_type": "code",
   "execution_count": 24,
   "id": "specific-jewelry",
   "metadata": {},
   "outputs": [],
   "source": [
    "cam.SetValue(55);"
   ]
  },
  {
   "cell_type": "code",
   "execution_count": 25,
   "id": "animated-destination",
   "metadata": {},
   "outputs": [
    {
     "name": "stdout",
     "output_type": "stream",
     "text": [
      " Save buffer 55\n"
     ]
    }
   ],
   "source": [
    "cam.Run();"
   ]
  },
  {
   "cell_type": "code",
   "execution_count": 27,
   "id": "median-survival",
   "metadata": {},
   "outputs": [
    {
     "name": "stdout",
     "output_type": "stream",
     "text": [
      "1\n"
     ]
    }
   ],
   "source": [
    "cout << cam.m_buf->write_cnt << endl;"
   ]
  },
  {
   "cell_type": "code",
   "execution_count": 28,
   "id": "tracked-mexico",
   "metadata": {},
   "outputs": [],
   "source": [
    "int val = cam.m_buf->GetFrame();"
   ]
  },
  {
   "cell_type": "code",
   "execution_count": 29,
   "id": "higher-dakota",
   "metadata": {},
   "outputs": [
    {
     "name": "stdout",
     "output_type": "stream",
     "text": [
      "55"
     ]
    }
   ],
   "source": [
    "cout << val;"
   ]
  },
  {
   "cell_type": "code",
   "execution_count": null,
   "id": "regular-discrimination",
   "metadata": {},
   "outputs": [],
   "source": []
  }
 ],
 "metadata": {
  "kernelspec": {
   "display_name": "C++14",
   "language": "C++14",
   "name": "xcpp14"
  },
  "language_info": {
   "codemirror_mode": "text/x-c++src",
   "file_extension": ".cpp",
   "mimetype": "text/x-c++src",
   "name": "c++",
   "version": "14"
  }
 },
 "nbformat": 4,
 "nbformat_minor": 5
}
