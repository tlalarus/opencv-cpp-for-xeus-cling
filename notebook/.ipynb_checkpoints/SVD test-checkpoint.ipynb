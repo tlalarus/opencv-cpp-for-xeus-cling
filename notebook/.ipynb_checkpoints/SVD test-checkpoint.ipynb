{
 "cells": [
  {
   "cell_type": "code",
   "execution_count": 1,
   "id": "engaged-operation",
   "metadata": {},
   "outputs": [],
   "source": [
    "#pragma cling add_include_path(\"/user/local/include\")"
   ]
  },
  {
   "cell_type": "code",
   "execution_count": 2,
   "id": "breathing-frame",
   "metadata": {},
   "outputs": [],
   "source": [
    "#include \"xeus-cling-includeLib.h\""
   ]
  },
  {
   "cell_type": "code",
   "execution_count": 3,
   "id": "respected-victim",
   "metadata": {},
   "outputs": [],
   "source": [
    "#include <iostream>"
   ]
  },
  {
   "cell_type": "code",
   "execution_count": 4,
   "id": "charitable-tulsa",
   "metadata": {},
   "outputs": [],
   "source": [
    "#include <opencv2/opencv.hpp>"
   ]
  },
  {
   "cell_type": "code",
   "execution_count": 5,
   "id": "varying-newsletter",
   "metadata": {},
   "outputs": [],
   "source": [
    "#include <opencv2/highgui.hpp>"
   ]
  },
  {
   "cell_type": "code",
   "execution_count": 6,
   "id": "bacterial-recognition",
   "metadata": {},
   "outputs": [],
   "source": [
    "#include <opencv2/core.hpp>"
   ]
  },
  {
   "cell_type": "code",
   "execution_count": 7,
   "id": "pleased-attention",
   "metadata": {},
   "outputs": [],
   "source": [
    "#include <opencv2/imgproc.hpp>"
   ]
  },
  {
   "cell_type": "code",
   "execution_count": 8,
   "id": "compliant-winner",
   "metadata": {},
   "outputs": [],
   "source": [
    "using namespace std;"
   ]
  },
  {
   "cell_type": "code",
   "execution_count": 9,
   "id": "specialized-grammar",
   "metadata": {},
   "outputs": [],
   "source": [
    "using namespace cv;"
   ]
  },
  {
   "cell_type": "markdown",
   "id": "clean-probability",
   "metadata": {},
   "source": [
    "## ROI의 orient 주성분을 추출해서 local dominant orient 를 계산하는 테스트"
   ]
  },
  {
   "cell_type": "code",
   "execution_count": 10,
   "id": "burning-experiment",
   "metadata": {},
   "outputs": [],
   "source": [
    "Mat img = imread(\"img/cameraman.jpg\", IMREAD_GRAYSCALE);"
   ]
  },
  {
   "cell_type": "code",
   "execution_count": 11,
   "id": "valuable-grammar",
   "metadata": {},
   "outputs": [],
   "source": [
    "Mat roi1 = img(Range(0,128), Range(0,128));"
   ]
  },
  {
   "cell_type": "code",
   "execution_count": 12,
   "id": "spoken-enzyme",
   "metadata": {},
   "outputs": [
    {
     "name": "stdout",
     "output_type": "stream",
     "text": [
      "128 128"
     ]
    }
   ],
   "source": [
    "cout << roi1.cols << \" \"<< roi1.rows;"
   ]
  },
  {
   "cell_type": "markdown",
   "id": "mighty-azerbaijan",
   "metadata": {},
   "source": [
    "#### SVD 함수에 입력할 orient 행렬(G=[gx, gy]) 생성"
   ]
  },
  {
   "cell_type": "code",
   "execution_count": 13,
   "id": "recovered-society",
   "metadata": {},
   "outputs": [],
   "source": [
    "Mat sobelx, sobely;"
   ]
  },
  {
   "cell_type": "code",
   "execution_count": 14,
   "id": "stable-vegetable",
   "metadata": {},
   "outputs": [],
   "source": [
    "Sobel(roi1, sobelx, CV_64F, 1, 0);\n",
    "Sobel(roi1, sobely, CV_64F, 0, 1);"
   ]
  },
  {
   "cell_type": "markdown",
   "id": "atmospheric-outreach",
   "metadata": {},
   "source": [
    "#### gx, gy 각각 flatten 하게 1xN 행렬로 변형한다.(rows=N, cols=1 인 행렬.)"
   ]
  },
  {
   "cell_type": "code",
   "execution_count": 15,
   "id": "trained-nevada",
   "metadata": {},
   "outputs": [],
   "source": [
    "Mat gx = sobelx.reshape(1, 1).t();"
   ]
  },
  {
   "cell_type": "code",
   "execution_count": 16,
   "id": "emotional-sculpture",
   "metadata": {},
   "outputs": [],
   "source": [
    "Mat gy = sobely.reshape(1, 1).t();"
   ]
  },
  {
   "cell_type": "code",
   "execution_count": 17,
   "id": "fleet-volleyball",
   "metadata": {},
   "outputs": [
    {
     "name": "stdout",
     "output_type": "stream",
     "text": [
      "gx shape: 1 16384\n",
      "gy shape: 1 16384"
     ]
    }
   ],
   "source": [
    "cout <<\"gx shape: \"<< gx.cols << \" \"<< gx.rows << endl;\n",
    "cout <<\"gy shape: \"<< gy.cols << \" \"<< gy.rows;"
   ]
  },
  {
   "cell_type": "markdown",
   "id": "bored-exemption",
   "metadata": {},
   "source": [
    "#### gx, gy를 2xN 행렬로 변환."
   ]
  },
  {
   "cell_type": "code",
   "execution_count": 18,
   "id": "classical-chess",
   "metadata": {},
   "outputs": [],
   "source": [
    "int total = gx.total();"
   ]
  },
  {
   "cell_type": "code",
   "execution_count": 21,
   "id": "urban-forum",
   "metadata": {},
   "outputs": [],
   "source": [
    "Mat fin_mat = Mat::zeros(Size(2, total), CV_32F);"
   ]
  },
  {
   "cell_type": "code",
   "execution_count": 22,
   "id": "fantastic-pickup",
   "metadata": {},
   "outputs": [],
   "source": [
    "for(int i=0; i<total; i++)\n",
    "{\n",
    "    fin_mat.at<float>(i*2) = gx.at<float>(i);\n",
    "    fin_mat.at<float>(i*2+1) = gy.at<float>(i);\n",
    "}"
   ]
  },
  {
   "cell_type": "code",
   "execution_count": 24,
   "id": "geographic-avatar",
   "metadata": {},
   "outputs": [
    {
     "name": "stdout",
     "output_type": "stream",
     "text": [
      "16384 2"
     ]
    }
   ],
   "source": [
    "cout << fin_mat.rows << \" \" << fin_mat.cols;"
   ]
  },
  {
   "cell_type": "code",
   "execution_count": null,
   "id": "indie-german",
   "metadata": {},
   "outputs": [],
   "source": [
    "Mat w, u, vt;"
   ]
  },
  {
   "cell_type": "code",
   "execution_count": null,
   "id": "eight-colleague",
   "metadata": {},
   "outputs": [],
   "source": [
    "Mat roi1_64f;\n",
    "roi1.convertTo(roi1_64f, CV_64F);"
   ]
  },
  {
   "cell_type": "markdown",
   "id": "surrounded-spanish",
   "metadata": {},
   "source": [
    "입력 matrix 형태가 CV_64FC1 or CV_32FC1 둘 중 하나여야 한다."
   ]
  },
  {
   "cell_type": "code",
   "execution_count": null,
   "id": "posted-bottom",
   "metadata": {},
   "outputs": [],
   "source": [
    "SVD::compute(roi1_64f, w, u, vt, SVD::FULL_UV);"
   ]
  },
  {
   "cell_type": "code",
   "execution_count": null,
   "id": "enabling-species",
   "metadata": {},
   "outputs": [],
   "source": [
    "cout << w.cols <<\" \" <<w.rows;"
   ]
  },
  {
   "cell_type": "code",
   "execution_count": null,
   "id": "minor-louisiana",
   "metadata": {},
   "outputs": [],
   "source": [
    "cout << u.cols <<\" \"<<u.rows;"
   ]
  },
  {
   "cell_type": "code",
   "execution_count": null,
   "id": "adopted-stranger",
   "metadata": {},
   "outputs": [],
   "source": [
    "cout << vt.cols << \" \"<< vt.rows;"
   ]
  }
 ],
 "metadata": {
  "kernelspec": {
   "display_name": "C++11",
   "language": "C++11",
   "name": "xcpp11"
  },
  "language_info": {
   "codemirror_mode": "text/x-c++src",
   "file_extension": ".cpp",
   "mimetype": "text/x-c++src",
   "name": "c++",
   "version": "11"
  }
 },
 "nbformat": 4,
 "nbformat_minor": 5
}
