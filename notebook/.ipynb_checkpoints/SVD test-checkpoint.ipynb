{
 "cells": [
  {
   "cell_type": "code",
   "execution_count": 1,
   "id": "engaged-operation",
   "metadata": {},
   "outputs": [],
   "source": [
    "#pragma cling add_include_path(\"/user/local/include\")"
   ]
  },
  {
   "cell_type": "code",
   "execution_count": 2,
   "id": "breathing-frame",
   "metadata": {},
   "outputs": [],
   "source": [
    "#include \"xeus-cling-includeLib.h\""
   ]
  },
  {
   "cell_type": "code",
   "execution_count": 3,
   "id": "respected-victim",
   "metadata": {},
   "outputs": [],
   "source": [
    "#include <iostream>"
   ]
  },
  {
   "cell_type": "code",
   "execution_count": 4,
   "id": "charitable-tulsa",
   "metadata": {},
   "outputs": [],
   "source": [
    "#include <opencv2/opencv.hpp>"
   ]
  },
  {
   "cell_type": "code",
   "execution_count": 5,
   "id": "varying-newsletter",
   "metadata": {},
   "outputs": [],
   "source": [
    "#include <opencv2/highgui.hpp>"
   ]
  },
  {
   "cell_type": "code",
   "execution_count": 6,
   "id": "bacterial-recognition",
   "metadata": {},
   "outputs": [],
   "source": [
    "#include <opencv2/core.hpp>"
   ]
  },
  {
   "cell_type": "code",
   "execution_count": 7,
   "id": "pleased-attention",
   "metadata": {},
   "outputs": [],
   "source": [
    "#include <opencv2/imgproc.hpp>"
   ]
  },
  {
   "cell_type": "code",
   "execution_count": 8,
   "id": "compliant-winner",
   "metadata": {},
   "outputs": [],
   "source": [
    "using namespace std;"
   ]
  },
  {
   "cell_type": "code",
   "execution_count": 9,
   "id": "specialized-grammar",
   "metadata": {},
   "outputs": [],
   "source": [
    "using namespace cv;"
   ]
  },
  {
   "cell_type": "markdown",
   "id": "clean-probability",
   "metadata": {},
   "source": [
    "## ROI의 orient 주성분을 추출해서 local dominant orient 를 계산하는 테스트"
   ]
  },
  {
   "cell_type": "code",
   "execution_count": 10,
   "id": "burning-experiment",
   "metadata": {},
   "outputs": [],
   "source": [
    "Mat img = imread(\"img/cameraman.jpg\", IMREAD_GRAYSCALE);"
   ]
  },
  {
   "cell_type": "code",
   "execution_count": 31,
   "id": "valuable-grammar",
   "metadata": {},
   "outputs": [],
   "source": [
    "Mat roi1 = img(Range(128,256), Range(0,128));\n",
    "imwrite(\"img/roi.jpg\", roi1);"
   ]
  },
  {
   "cell_type": "code",
   "execution_count": 12,
   "id": "spoken-enzyme",
   "metadata": {},
   "outputs": [
    {
     "name": "stdout",
     "output_type": "stream",
     "text": [
      "128 128"
     ]
    }
   ],
   "source": [
    "cout << roi1.cols << \" \"<< roi1.rows;"
   ]
  },
  {
   "cell_type": "markdown",
   "id": "mighty-azerbaijan",
   "metadata": {},
   "source": [
    "#### SVD 함수에 입력할 orient 행렬(G=[gx, gy]) 생성"
   ]
  },
  {
   "cell_type": "code",
   "execution_count": 13,
   "id": "recovered-society",
   "metadata": {},
   "outputs": [],
   "source": [
    "Mat sobelx, sobely;"
   ]
  },
  {
   "cell_type": "code",
   "execution_count": 14,
   "id": "stable-vegetable",
   "metadata": {},
   "outputs": [],
   "source": [
    "Sobel(roi1, sobelx, CV_64F, 1, 0);\n",
    "Sobel(roi1, sobely, CV_64F, 0, 1);"
   ]
  },
  {
   "cell_type": "markdown",
   "id": "atmospheric-outreach",
   "metadata": {},
   "source": [
    "#### gx, gy 각각 flatten 하게 1xN 행렬로 변형한다.(rows=N, cols=1 인 행렬.)"
   ]
  },
  {
   "cell_type": "code",
   "execution_count": 15,
   "id": "trained-nevada",
   "metadata": {},
   "outputs": [],
   "source": [
    "Mat gx = sobelx.reshape(1, 1).t();"
   ]
  },
  {
   "cell_type": "code",
   "execution_count": 16,
   "id": "emotional-sculpture",
   "metadata": {},
   "outputs": [],
   "source": [
    "Mat gy = sobely.reshape(1, 1).t();"
   ]
  },
  {
   "cell_type": "code",
   "execution_count": 17,
   "id": "fleet-volleyball",
   "metadata": {},
   "outputs": [
    {
     "name": "stdout",
     "output_type": "stream",
     "text": [
      "gx shape: 1 16384\n",
      "gy shape: 1 16384"
     ]
    }
   ],
   "source": [
    "cout <<\"gx shape: \"<< gx.cols << \" \"<< gx.rows << endl;\n",
    "cout <<\"gy shape: \"<< gy.cols << \" \"<< gy.rows;"
   ]
  },
  {
   "cell_type": "markdown",
   "id": "bored-exemption",
   "metadata": {},
   "source": [
    "#### gx, gy를 2xN 행렬로 변환."
   ]
  },
  {
   "cell_type": "code",
   "execution_count": 18,
   "id": "classical-chess",
   "metadata": {},
   "outputs": [],
   "source": [
    "int total = gx.total();"
   ]
  },
  {
   "cell_type": "code",
   "execution_count": 19,
   "id": "urban-forum",
   "metadata": {},
   "outputs": [],
   "source": [
    "Mat fin_mat = Mat::zeros(Size(2, total), CV_32F);"
   ]
  },
  {
   "cell_type": "code",
   "execution_count": 20,
   "id": "fantastic-pickup",
   "metadata": {},
   "outputs": [],
   "source": [
    "for(int i=0; i<total; i++)\n",
    "{\n",
    "    fin_mat.at<float>(i*2) = gx.at<float>(i);\n",
    "    fin_mat.at<float>(i*2+1) = gy.at<float>(i);\n",
    "}"
   ]
  },
  {
   "cell_type": "code",
   "execution_count": 21,
   "id": "geographic-avatar",
   "metadata": {},
   "outputs": [
    {
     "name": "stdout",
     "output_type": "stream",
     "text": [
      "16384 2"
     ]
    }
   ],
   "source": [
    "cout << fin_mat.rows << \" \" << fin_mat.cols;"
   ]
  },
  {
   "cell_type": "code",
   "execution_count": 22,
   "id": "indie-german",
   "metadata": {},
   "outputs": [],
   "source": [
    "Mat w, u, vt;"
   ]
  },
  {
   "cell_type": "code",
   "execution_count": 23,
   "id": "eight-colleague",
   "metadata": {},
   "outputs": [],
   "source": [
    "Mat roi1_64f;\n",
    "roi1.convertTo(roi1_64f, CV_64F);"
   ]
  },
  {
   "cell_type": "markdown",
   "id": "surrounded-spanish",
   "metadata": {},
   "source": [
    "입력 matrix 형태가 CV_64FC1 or CV_32FC1 둘 중 하나여야 한다."
   ]
  },
  {
   "cell_type": "code",
   "execution_count": 24,
   "id": "posted-bottom",
   "metadata": {},
   "outputs": [],
   "source": [
    "SVD::compute(roi1_64f, w, u, vt, SVD::FULL_UV);"
   ]
  },
  {
   "cell_type": "code",
   "execution_count": 25,
   "id": "enabling-species",
   "metadata": {},
   "outputs": [
    {
     "name": "stdout",
     "output_type": "stream",
     "text": [
      "1 128"
     ]
    }
   ],
   "source": [
    "cout << w.cols <<\" \" <<w.rows;"
   ]
  },
  {
   "cell_type": "code",
   "execution_count": 26,
   "id": "minor-louisiana",
   "metadata": {},
   "outputs": [
    {
     "name": "stdout",
     "output_type": "stream",
     "text": [
      "128 128"
     ]
    }
   ],
   "source": [
    "cout << u.cols <<\" \"<<u.rows;"
   ]
  },
  {
   "cell_type": "code",
   "execution_count": 27,
   "id": "adopted-stranger",
   "metadata": {},
   "outputs": [
    {
     "name": "stdout",
     "output_type": "stream",
     "text": [
      "128 128"
     ]
    }
   ],
   "source": [
    "cout << vt.cols << \" \"<< vt.rows;"
   ]
  },
  {
   "cell_type": "markdown",
   "id": "eleven-answer",
   "metadata": {},
   "source": [
    "### SVD 결과로 나온 VT에서 dominant orientation, dominant \"edge\"orientation 구하기.\n",
    "vt matrix=   \n",
    "| v11 v12 |   \n",
    "| v21 v22 | 이다. arctan(v11/v12)=dominant orientation, arctan(v21/v22)=dominant \"edge\" orientation.임."
   ]
  },
  {
   "cell_type": "code",
   "execution_count": 28,
   "id": "interpreted-standard",
   "metadata": {},
   "outputs": [
    {
     "name": "stdout",
     "output_type": "stream",
     "text": [
      "[1, 2;\n",
      " 3, 4]"
     ]
    }
   ],
   "source": [
    "int ddata[4] = {1,2,3,4};\n",
    "Mat vt_mat(Size(2,2), CV_32S, ddata);\n",
    "cout << vt_mat;"
   ]
  },
  {
   "cell_type": "code",
   "execution_count": 29,
   "id": "conditional-healing",
   "metadata": {},
   "outputs": [],
   "source": [
    "int v11 = vt_mat.at<int>(Point(0,0));\n",
    "int v21 = vt_mat.at<int>(Point(1,0));\n",
    "int v12 = vt_mat.at<int>(Point(0,1));\n",
    "int v22 = vt_mat.at<int>(Point(1,1));"
   ]
  },
  {
   "cell_type": "code",
   "execution_count": 30,
   "id": "naked-retailer",
   "metadata": {},
   "outputs": [
    {
     "name": "stdout",
     "output_type": "stream",
     "text": [
      "1\n",
      "2\n",
      "3\n",
      "4\n"
     ]
    }
   ],
   "source": [
    "cout << v11 << endl;\n",
    "cout << v21 << endl;\n",
    "cout << v12 << endl;\n",
    "cout << v22 << endl;"
   ]
  },
  {
   "cell_type": "code",
   "execution_count": null,
   "id": "stopped-omaha",
   "metadata": {},
   "outputs": [],
   "source": []
  }
 ],
 "metadata": {
  "kernelspec": {
   "display_name": "C++11",
   "language": "C++11",
   "name": "xcpp11"
  },
  "language_info": {
   "codemirror_mode": "text/x-c++src",
   "file_extension": ".cpp",
   "mimetype": "text/x-c++src",
   "name": "c++",
   "version": "11"
  }
 },
 "nbformat": 4,
 "nbformat_minor": 5
}
