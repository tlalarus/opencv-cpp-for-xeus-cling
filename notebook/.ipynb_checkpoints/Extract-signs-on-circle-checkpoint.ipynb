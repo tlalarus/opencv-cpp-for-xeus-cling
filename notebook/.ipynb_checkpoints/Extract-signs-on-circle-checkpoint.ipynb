{
 "cells": [
  {
   "cell_type": "code",
   "execution_count": 4,
   "id": "following-going",
   "metadata": {},
   "outputs": [],
   "source": [
    "#include \"xeus-cling-includeLib.h\""
   ]
  },
  {
   "cell_type": "code",
   "execution_count": 5,
   "id": "elementary-candle",
   "metadata": {},
   "outputs": [],
   "source": [
    "#include <iostream>"
   ]
  },
  {
   "cell_type": "code",
   "execution_count": 6,
   "id": "electric-partition",
   "metadata": {},
   "outputs": [],
   "source": [
    "#include <opencv2/opencv.hpp>"
   ]
  },
  {
   "cell_type": "code",
   "execution_count": 7,
   "id": "empirical-scholar",
   "metadata": {},
   "outputs": [],
   "source": [
    "#include <opencv2/highgui.hpp>"
   ]
  },
  {
   "cell_type": "code",
   "execution_count": 8,
   "id": "classified-absolute",
   "metadata": {},
   "outputs": [],
   "source": [
    "#include <opencv2/core.hpp>"
   ]
  },
  {
   "cell_type": "code",
   "execution_count": 9,
   "id": "progressive-product",
   "metadata": {},
   "outputs": [],
   "source": [
    "#include <opencv2/imgproc.hpp>"
   ]
  },
  {
   "cell_type": "code",
   "execution_count": 12,
   "id": "presidential-canberra",
   "metadata": {},
   "outputs": [],
   "source": [
    "#include <cmath>"
   ]
  },
  {
   "cell_type": "markdown",
   "id": "peaceful-copyright",
   "metadata": {},
   "source": [
    "# thresholding"
   ]
  },
  {
   "cell_type": "code",
   "execution_count": 10,
   "id": "extreme-treasurer",
   "metadata": {},
   "outputs": [],
   "source": [
    "using namespace std;"
   ]
  },
  {
   "cell_type": "code",
   "execution_count": 11,
   "id": "temporal-registration",
   "metadata": {},
   "outputs": [],
   "source": [
    "using namespace cv;"
   ]
  },
  {
   "cell_type": "code",
   "execution_count": 14,
   "id": "streaming-satin",
   "metadata": {},
   "outputs": [],
   "source": [
    "void drop_background(Mat& src, Mat& dst, int diameter, unsigned char fill_val){\n",
    "    /*\n",
    "    @brief Extract region of ball\n",
    "    @param src: gray image.\n",
    "    @param dst: foreground gray image, circle outside region is 0.\n",
    "    @param fill_val: fill circle outside with this value.\n",
    "    */\n",
    "    \n",
    "    float rad = (float)diameter / 2.0;\n",
    "    int w = src.cols;\n",
    "    int h = src.rows;\n",
    "    int cx = rad - 1;\n",
    "    int cy = rad - 1;\n",
    "    \n",
    "    src.copyTo(dst);\n",
    "    \n",
    "    for(int y=0; y<h; y++)\n",
    "    {\n",
    "        \n",
    "        for(int x=0; x<w; x++)\n",
    "        {\n",
    "            // calculate distance from center to (x,y)\n",
    "            float dist = sqrt(pow(x+0.5-cx,2) + pow(y+0.5-cy,2));\n",
    "            if(dist > rad)\n",
    "            {\n",
    "                // fill with value\n",
    "                dst.data[y*w+x] = fill_val;\n",
    "            }\n",
    "        }\n",
    "    }\n",
    "    \n",
    "}"
   ]
  },
  {
   "cell_type": "code",
   "execution_count": 3,
   "id": "every-region",
   "metadata": {
    "scrolled": false
   },
   "outputs": [],
   "source": [
    "void thresholding(cv::Mat& src, cv::Mat& dst, int diameter){\n",
    "    /*\n",
    "    @brief Remove background, thresholding using gaussianblur, masked adaptive thresholding\n",
    "    @param src: gray image.\n",
    "    @param dst: binary image.\n",
    "    @param diameter: diameter of circle.\n",
    "    */\n",
    "\n",
    "    // Remove background\n",
    "\n",
    "    // Thresholding\n",
    "}"
   ]
  },
  {
   "cell_type": "code",
   "execution_count": null,
   "id": "union-horizontal",
   "metadata": {},
   "outputs": [],
   "source": []
  }
 ],
 "metadata": {
  "kernelspec": {
   "display_name": "C++14",
   "language": "C++14",
   "name": "xcpp14"
  },
  "language_info": {
   "codemirror_mode": "text/x-c++src",
   "file_extension": ".cpp",
   "mimetype": "text/x-c++src",
   "name": "c++",
   "version": "14"
  }
 },
 "nbformat": 4,
 "nbformat_minor": 5
}
