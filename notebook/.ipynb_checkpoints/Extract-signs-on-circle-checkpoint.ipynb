{
 "cells": [
  {
   "cell_type": "code",
   "execution_count": null,
   "id": "boolean-longer",
   "metadata": {},
   "outputs": [],
   "source": [
    "#pragma cling add_include_path(\"/user/local/include\")"
   ]
  },
  {
   "cell_type": "code",
   "execution_count": null,
   "id": "novel-implement",
   "metadata": {},
   "outputs": [],
   "source": [
    "#include \"xeus-cling-includeLib.h\""
   ]
  },
  {
   "cell_type": "code",
   "execution_count": 2,
   "id": "color-florida",
   "metadata": {},
   "outputs": [],
   "source": [
    "#include <iostream>"
   ]
  },
  {
   "cell_type": "code",
   "execution_count": 3,
   "id": "current-mattress",
   "metadata": {},
   "outputs": [
    {
     "name": "stderr",
     "output_type": "stream",
     "text": [
      "\u001b[1minput_line_9:1:10: \u001b[0m\u001b[0;1;31mfatal error: \u001b[0m\u001b[1m'opencv2/opencv.hpp' file not found\u001b[0m\n",
      "#include <opencv2/opencv.hpp>\n",
      "\u001b[0;1;32m         ^~~~~~~~~~~~~~~~~~~~\n",
      "\u001b[0m"
     ]
    },
    {
     "ename": "Interpreter Error",
     "evalue": "",
     "output_type": "error",
     "traceback": [
      "Interpreter Error: "
     ]
    }
   ],
   "source": [
    "#include <opencv2/opencv.hpp>"
   ]
  },
  {
   "cell_type": "code",
   "execution_count": null,
   "id": "disabled-substance",
   "metadata": {},
   "outputs": [],
   "source": [
    "#include <opencv2/highgui.hpp>"
   ]
  },
  {
   "cell_type": "code",
   "execution_count": null,
   "id": "herbal-analyst",
   "metadata": {},
   "outputs": [],
   "source": [
    "#include <opencv2/core.hpp>"
   ]
  },
  {
   "cell_type": "code",
   "execution_count": null,
   "id": "charitable-leadership",
   "metadata": {},
   "outputs": [],
   "source": [
    "#include <opencv2/imgproc.hpp>"
   ]
  },
  {
   "cell_type": "code",
   "execution_count": null,
   "id": "agreed-browser",
   "metadata": {},
   "outputs": [],
   "source": [
    "#include <cmath>"
   ]
  },
  {
   "cell_type": "markdown",
   "id": "external-catch",
   "metadata": {},
   "source": [
    "# thresholding"
   ]
  },
  {
   "cell_type": "code",
   "execution_count": null,
   "id": "frozen-specialist",
   "metadata": {},
   "outputs": [],
   "source": [
    "using namespace std;"
   ]
  },
  {
   "cell_type": "code",
   "execution_count": null,
   "id": "significant-austin",
   "metadata": {},
   "outputs": [],
   "source": [
    "using namespace cv;"
   ]
  },
  {
   "cell_type": "code",
   "execution_count": null,
   "id": "lesbian-retailer",
   "metadata": {},
   "outputs": [],
   "source": [
    "void drop_background(Mat& src, Mat& dst, int diameter, unsigned char fill_val){\n",
    "    /*\n",
    "    @brief Extract region of ball\n",
    "    @param src: gray image.\n",
    "    @param dst: foreground gray image, circle outside region is 0.\n",
    "    @param fill_val: fill circle outside with this value.\n",
    "    */\n",
    "    \n",
    "    float rad = (float)diameter / 2.0;\n",
    "    int w = src.cols;\n",
    "    int h = src.rows;\n",
    "    int cx = rad - 1;\n",
    "    int cy = rad - 1;\n",
    "    \n",
    "    src.copyTo(dst);\n",
    "    \n",
    "    for(int y=0; y<h; y++)\n",
    "    {\n",
    "        \n",
    "        for(int x=0; x<w; x++)\n",
    "        {\n",
    "            // calculate distance from center to (x,y)\n",
    "            float dist = sqrt(pow(x+0.5-cx,2) + pow(y+0.5-cy,2));\n",
    "            if(dist > rad)\n",
    "            {\n",
    "                // fill with value\n",
    "                dst.data[y*w+x] = fill_val;\n",
    "            }\n",
    "        }\n",
    "    }\n",
    "    \n",
    "}"
   ]
  },
  {
   "cell_type": "code",
   "execution_count": null,
   "id": "rough-voluntary",
   "metadata": {},
   "outputs": [],
   "source": [
    "\n",
    "void masked_adpt_th(Mat& src, int bsize, int max_value, int th_C)\n",
    "{\n",
    "    // mask: if inside of ball: 255, else: 0\n",
    "    \n",
    "}"
   ]
  },
  {
   "cell_type": "code",
   "execution_count": null,
   "id": "abroad-graphics",
   "metadata": {
    "scrolled": false
   },
   "outputs": [],
   "source": [
    "void thresholding(cv::Mat& src, cv::Mat& dst, int diameter){\n",
    "    /*\n",
    "    @brief Remove background, thresholding using gaussianblur, masked adaptive thresholding\n",
    "    @param src: gray image.\n",
    "    @param dst: binary image.\n",
    "    @param diameter: diameter of circle.\n",
    "    */\n",
    "\n",
    "    // Remove background\n",
    "\n",
    "    // Thresholding\n",
    "}"
   ]
  },
  {
   "cell_type": "markdown",
   "id": "gross-creek",
   "metadata": {},
   "source": [
    "# masked adaptive threshold"
   ]
  },
  {
   "cell_type": "code",
   "execution_count": null,
   "id": "chicken-reading",
   "metadata": {},
   "outputs": [],
   "source": [
    "void conv2(Mat src, int bsize)\n",
    "{\n",
    "    // create block\n",
    "    Mat dst, block;\n",
    "    block = Mat::ones(bsize, bsize, CV_32F);\n",
    "    block.ptr<float>(int((bsize-1)/2), int((bsize-1)/2)) = 0.f;\n",
    "}"
   ]
  },
  {
   "cell_type": "code",
   "execution_count": null,
   "id": "civic-logistics",
   "metadata": {},
   "outputs": [],
   "source": []
  }
 ],
 "metadata": {
  "kernelspec": {
   "display_name": "C++14",
   "language": "C++14",
   "name": "xcpp14"
  },
  "language_info": {
   "codemirror_mode": "text/x-c++src",
   "file_extension": ".cpp",
   "mimetype": "text/x-c++src",
   "name": "c++",
   "version": "14"
  }
 },
 "nbformat": 4,
 "nbformat_minor": 5
}
