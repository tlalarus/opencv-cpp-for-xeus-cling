{
 "cells": [
  {
   "cell_type": "code",
   "execution_count": 1,
   "id": "designing-insulin",
   "metadata": {},
   "outputs": [],
   "source": [
    "#pragma cling add_include_path(\"/user/local/include\")"
   ]
  },
  {
   "cell_type": "code",
   "execution_count": 2,
   "id": "steady-sherman",
   "metadata": {},
   "outputs": [],
   "source": [
    "#include \"xeus-cling-includeLib.h\""
   ]
  },
  {
   "cell_type": "code",
   "execution_count": 3,
   "id": "printable-solid",
   "metadata": {},
   "outputs": [],
   "source": [
    "#include <iostream>"
   ]
  },
  {
   "cell_type": "code",
   "execution_count": 4,
   "id": "tight-constraint",
   "metadata": {},
   "outputs": [],
   "source": [
    "#include <opencv2/opencv.hpp>"
   ]
  },
  {
   "cell_type": "code",
   "execution_count": 5,
   "id": "grand-agreement",
   "metadata": {},
   "outputs": [],
   "source": [
    "#include <opencv2/highgui.hpp>"
   ]
  },
  {
   "cell_type": "code",
   "execution_count": 6,
   "id": "crucial-jewelry",
   "metadata": {},
   "outputs": [],
   "source": [
    "#include <opencv2/core.hpp>"
   ]
  },
  {
   "cell_type": "code",
   "execution_count": 7,
   "id": "controlling-calgary",
   "metadata": {},
   "outputs": [],
   "source": [
    "#include <opencv2/imgproc.hpp>"
   ]
  },
  {
   "cell_type": "code",
   "execution_count": 8,
   "id": "handmade-married",
   "metadata": {},
   "outputs": [],
   "source": [
    "#include <cmath>"
   ]
  },
  {
   "cell_type": "code",
   "execution_count": 9,
   "id": "important-liberal",
   "metadata": {},
   "outputs": [],
   "source": [
    "#include <algorithm>"
   ]
  },
  {
   "cell_type": "code",
   "execution_count": 10,
   "id": "proper-sequence",
   "metadata": {},
   "outputs": [],
   "source": [
    "using namespace std;"
   ]
  },
  {
   "cell_type": "code",
   "execution_count": 11,
   "id": "incoming-april",
   "metadata": {},
   "outputs": [],
   "source": [
    "using namespace cv;"
   ]
  },
  {
   "cell_type": "code",
   "execution_count": 12,
   "id": "chicken-melissa",
   "metadata": {},
   "outputs": [],
   "source": [
    "Mat mask = Mat::zeros(9, 9,CV_32FC1);"
   ]
  },
  {
   "cell_type": "code",
   "execution_count": 13,
   "id": "moral-coast",
   "metadata": {},
   "outputs": [],
   "source": [
    "float maskFunc(float a)\n",
    "{\n",
    "    if(a > 0)\n",
    "    {\n",
    "        return (float)255.0f;\n",
    "    }\n",
    "    else\n",
    "    {\n",
    "        return (float)0.0f;\n",
    "    }\n",
    "}"
   ]
  },
  {
   "cell_type": "code",
   "execution_count": 14,
   "id": "interstate-mixture",
   "metadata": {},
   "outputs": [],
   "source": [
    "Mat src = Mat::ones(9,9, CV_32FC1);"
   ]
  },
  {
   "cell_type": "code",
   "execution_count": 15,
   "id": "spread-holocaust",
   "metadata": {},
   "outputs": [],
   "source": [
    "Mat ref = Mat::zeros(9,9, CV_32FC1);"
   ]
  },
  {
   "cell_type": "code",
   "execution_count": null,
   "id": "northern-vertical",
   "metadata": {},
   "outputs": [],
   "source": []
  },
  {
   "cell_type": "markdown",
   "id": "revolutionary-combining",
   "metadata": {},
   "source": [
    "## uchar -> float casting test"
   ]
  },
  {
   "cell_type": "code",
   "execution_count": 16,
   "id": "breeding-determination",
   "metadata": {},
   "outputs": [],
   "source": [
    "unsigned char val_uchar;"
   ]
  },
  {
   "cell_type": "code",
   "execution_count": 17,
   "id": "intended-lafayette",
   "metadata": {},
   "outputs": [],
   "source": [
    "int val_int = 255;"
   ]
  },
  {
   "cell_type": "code",
   "execution_count": 18,
   "id": "generous-beverage",
   "metadata": {},
   "outputs": [],
   "source": [
    "val_uchar = val_int;"
   ]
  },
  {
   "cell_type": "code",
   "execution_count": 19,
   "id": "daily-ancient",
   "metadata": {},
   "outputs": [
    {
     "name": "stdout",
     "output_type": "stream",
     "text": [
      "255\n"
     ]
    }
   ],
   "source": [
    "cout << val_int <<endl;"
   ]
  },
  {
   "cell_type": "code",
   "execution_count": 20,
   "id": "agreed-prize",
   "metadata": {},
   "outputs": [
    {
     "name": "stdout",
     "output_type": "stream",
     "text": [
      "255\n"
     ]
    }
   ],
   "source": [
    "cout << (int)val_uchar << endl;"
   ]
  },
  {
   "cell_type": "code",
   "execution_count": 21,
   "id": "dated-damage",
   "metadata": {},
   "outputs": [],
   "source": [
    "int val_int2 = val_uchar;"
   ]
  },
  {
   "cell_type": "code",
   "execution_count": 22,
   "id": "downtown-wallet",
   "metadata": {},
   "outputs": [
    {
     "name": "stdout",
     "output_type": "stream",
     "text": [
      "255\n"
     ]
    }
   ],
   "source": [
    "cout << val_int2 <<endl;"
   ]
  },
  {
   "cell_type": "code",
   "execution_count": 23,
   "id": "split-lafayette",
   "metadata": {},
   "outputs": [],
   "source": [
    "float val_float = val_uchar;"
   ]
  },
  {
   "cell_type": "code",
   "execution_count": 24,
   "id": "fourth-parameter",
   "metadata": {},
   "outputs": [
    {
     "name": "stdout",
     "output_type": "stream",
     "text": [
      "255\n"
     ]
    }
   ],
   "source": [
    "cout << val_float <<endl;"
   ]
  },
  {
   "cell_type": "code",
   "execution_count": 25,
   "id": "victorian-courtesy",
   "metadata": {},
   "outputs": [],
   "source": [
    "val_float = val_uchar + 3;"
   ]
  },
  {
   "cell_type": "code",
   "execution_count": 26,
   "id": "alert-backing",
   "metadata": {},
   "outputs": [
    {
     "name": "stdout",
     "output_type": "stream",
     "text": [
      "258\n"
     ]
    }
   ],
   "source": [
    "cout << val_float << endl;"
   ]
  },
  {
   "cell_type": "code",
   "execution_count": null,
   "id": "wooden-genome",
   "metadata": {},
   "outputs": [],
   "source": []
  }
 ],
 "metadata": {
  "kernelspec": {
   "display_name": "C++14",
   "language": "C++14",
   "name": "xcpp14"
  },
  "language_info": {
   "codemirror_mode": "text/x-c++src",
   "file_extension": ".cpp",
   "mimetype": "text/x-c++src",
   "name": "c++",
   "version": "14"
  }
 },
 "nbformat": 4,
 "nbformat_minor": 5
}
