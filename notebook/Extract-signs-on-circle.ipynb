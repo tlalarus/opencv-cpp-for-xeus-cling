{
 "cells": [
  {
   "cell_type": "code",
   "execution_count": 1,
   "id": "boolean-longer",
   "metadata": {},
   "outputs": [],
   "source": [
    "#pragma cling add_include_path(\"/user/local/include\")"
   ]
  },
  {
   "cell_type": "code",
   "execution_count": 2,
   "id": "novel-implement",
   "metadata": {},
   "outputs": [],
   "source": [
    "#include \"xeus-cling-includeLib.h\""
   ]
  },
  {
   "cell_type": "code",
   "execution_count": 3,
   "id": "color-florida",
   "metadata": {},
   "outputs": [],
   "source": [
    "#include <iostream>"
   ]
  },
  {
   "cell_type": "code",
   "execution_count": 4,
   "id": "current-mattress",
   "metadata": {},
   "outputs": [],
   "source": [
    "#include <opencv2/opencv.hpp>"
   ]
  },
  {
   "cell_type": "code",
   "execution_count": 5,
   "id": "disabled-substance",
   "metadata": {},
   "outputs": [],
   "source": [
    "#include <opencv2/highgui.hpp>"
   ]
  },
  {
   "cell_type": "code",
   "execution_count": 6,
   "id": "herbal-analyst",
   "metadata": {},
   "outputs": [],
   "source": [
    "#include <opencv2/core.hpp>"
   ]
  },
  {
   "cell_type": "code",
   "execution_count": 7,
   "id": "charitable-leadership",
   "metadata": {},
   "outputs": [],
   "source": [
    "#include <opencv2/imgproc.hpp>"
   ]
  },
  {
   "cell_type": "code",
   "execution_count": 8,
   "id": "agreed-browser",
   "metadata": {},
   "outputs": [],
   "source": [
    "#include <cmath>"
   ]
  },
  {
   "cell_type": "markdown",
   "id": "external-catch",
   "metadata": {},
   "source": [
    "# thresholding"
   ]
  },
  {
   "cell_type": "code",
   "execution_count": 9,
   "id": "frozen-specialist",
   "metadata": {},
   "outputs": [],
   "source": [
    "using namespace std;"
   ]
  },
  {
   "cell_type": "code",
   "execution_count": 10,
   "id": "significant-austin",
   "metadata": {},
   "outputs": [],
   "source": [
    "using namespace cv;"
   ]
  },
  {
   "cell_type": "code",
   "execution_count": 11,
   "id": "lesbian-retailer",
   "metadata": {},
   "outputs": [],
   "source": [
    "void drop_background(Mat& src, Mat& dst, int diameter, unsigned char fill_val){\n",
    "    /*\n",
    "    @brief Extract region of ball\n",
    "    @param src: gray image.\n",
    "    @param dst: foreground gray image, circle outside region is 0.\n",
    "    @param fill_val: fill circle outside with this value.\n",
    "    */\n",
    "    \n",
    "    float rad = (float)diameter / 2.0;\n",
    "    int w = src.cols;\n",
    "    int h = src.rows;\n",
    "    int cx = rad - 1;\n",
    "    int cy = rad - 1;\n",
    "    \n",
    "    src.copyTo(dst);\n",
    "    \n",
    "    for(int y=0; y<h; y++)\n",
    "    {\n",
    "        \n",
    "        for(int x=0; x<w; x++)\n",
    "        {\n",
    "            // calculate distance from center to (x,y)\n",
    "            float dist = sqrt(pow(x+0.5-cx,2) + pow(y+0.5-cy,2));\n",
    "            if(dist > rad)\n",
    "            {\n",
    "                // fill with value\n",
    "                dst.data[y*w+x] = fill_val;\n",
    "            }\n",
    "        }\n",
    "    }\n",
    "    \n",
    "}"
   ]
  },
  {
   "cell_type": "code",
   "execution_count": 12,
   "id": "rough-voluntary",
   "metadata": {},
   "outputs": [],
   "source": [
    "\n",
    "void masked_adpt_th(Mat& src, int bsize, int max_value, int th_C)\n",
    "{\n",
    "    // mask: if inside of ball: 255, else: 0\n",
    "    \n",
    "}"
   ]
  },
  {
   "cell_type": "code",
   "execution_count": 13,
   "id": "abroad-graphics",
   "metadata": {
    "scrolled": false
   },
   "outputs": [],
   "source": [
    "void thresholding(cv::Mat& src, cv::Mat& dst, int diameter){\n",
    "    /*\n",
    "    @brief Remove background, thresholding using gaussianblur, masked adaptive thresholding\n",
    "    @param src: gray image.\n",
    "    @param dst: binary image.\n",
    "    @param diameter: diameter of circle.\n",
    "    */\n",
    "\n",
    "    // Remove background\n",
    "\n",
    "    // Thresholding\n",
    "}"
   ]
  },
  {
   "cell_type": "markdown",
   "id": "gross-creek",
   "metadata": {},
   "source": [
    "# masked adaptive threshold"
   ]
  },
  {
   "cell_type": "code",
   "execution_count": null,
   "id": "exact-flush",
   "metadata": {},
   "outputs": [],
   "source": [
    "void get_number_neighbours()"
   ]
  },
  {
   "cell_type": "code",
   "execution_count": 17,
   "id": "chicken-reading",
   "metadata": {},
   "outputs": [],
   "source": [
    "void conv2(Mat src, int bsize)\n",
    "{\n",
    "    // create block\n",
    "    Mat dst, conv,block;\n",
    "    block = Mat::ones(bsize, bsize, CV_32F);\n",
    "    float* p = block.ptr<float>(int((bsize-1)/2));\n",
    "    p[int((bsize-1)/2)] = 0;\n",
    "    \n",
    "    // apply filter\n",
    "    filter2D(src, conv, -1, block, Point(-1,-1),0,BORDER_DEFAULT);\n",
    "    \n",
    "}"
   ]
  },
  {
   "cell_type": "markdown",
   "id": "vertical-hollow",
   "metadata": {},
   "source": [
    "## transform test"
   ]
  },
  {
   "cell_type": "code",
   "execution_count": 65,
   "id": "vulnerable-country",
   "metadata": {},
   "outputs": [],
   "source": [
    "// 2d array \n",
    "Mat arr = Mat(13,13,CV_32F);"
   ]
  },
  {
   "cell_type": "code",
   "execution_count": 56,
   "id": "related-child",
   "metadata": {},
   "outputs": [],
   "source": [
    "void printImgarr(Mat& src)\n",
    "{\n",
    "    for(int i=0; i< src.rows*src.cols; i++)\n",
    "    {\n",
    "        (int)src.data[i];\n",
    "    }\n",
    "}"
   ]
  },
  {
   "cell_type": "code",
   "execution_count": 19,
   "id": "humanitarian-illustration",
   "metadata": {},
   "outputs": [],
   "source": [
    "#include <algorithm>"
   ]
  },
  {
   "cell_type": "code",
   "execution_count": 68,
   "id": "proud-pepper",
   "metadata": {},
   "outputs": [
    {
     "data": {
      "text/plain": [
       "227"
      ]
     },
     "execution_count": 68,
     "metadata": {},
     "output_type": "execute_result"
    }
   ],
   "source": [
    "(int)arr.data[3]"
   ]
  },
  {
   "cell_type": "code",
   "execution_count": null,
   "id": "champion-drama",
   "metadata": {},
   "outputs": [],
   "source": []
  }
 ],
 "metadata": {
  "kernelspec": {
   "display_name": "C++14",
   "language": "C++14",
   "name": "xcpp14"
  },
  "language_info": {
   "codemirror_mode": "text/x-c++src",
   "file_extension": ".cpp",
   "mimetype": "text/x-c++src",
   "name": "c++",
   "version": "14"
  }
 },
 "nbformat": 4,
 "nbformat_minor": 5
}
