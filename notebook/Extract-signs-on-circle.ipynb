{
 "cells": [
  {
   "cell_type": "code",
   "execution_count": 4,
   "id": "novel-implement",
   "metadata": {},
   "outputs": [],
   "source": [
    "#include \"xeus-cling-includeLib.h\""
   ]
  },
  {
   "cell_type": "code",
   "execution_count": 5,
   "id": "color-florida",
   "metadata": {},
   "outputs": [],
   "source": [
    "#include <iostream>"
   ]
  },
  {
   "cell_type": "code",
   "execution_count": 6,
   "id": "current-mattress",
   "metadata": {},
   "outputs": [],
   "source": [
    "#include <opencv2/opencv.hpp>"
   ]
  },
  {
   "cell_type": "code",
   "execution_count": 7,
   "id": "disabled-substance",
   "metadata": {},
   "outputs": [],
   "source": [
    "#include <opencv2/highgui.hpp>"
   ]
  },
  {
   "cell_type": "code",
   "execution_count": 8,
   "id": "herbal-analyst",
   "metadata": {},
   "outputs": [],
   "source": [
    "#include <opencv2/core.hpp>"
   ]
  },
  {
   "cell_type": "code",
   "execution_count": 9,
   "id": "charitable-leadership",
   "metadata": {},
   "outputs": [],
   "source": [
    "#include <opencv2/imgproc.hpp>"
   ]
  },
  {
   "cell_type": "code",
   "execution_count": 12,
   "id": "agreed-browser",
   "metadata": {},
   "outputs": [],
   "source": [
    "#include <cmath>"
   ]
  },
  {
   "cell_type": "markdown",
   "id": "external-catch",
   "metadata": {},
   "source": [
    "# thresholding"
   ]
  },
  {
   "cell_type": "code",
   "execution_count": 10,
   "id": "frozen-specialist",
   "metadata": {},
   "outputs": [],
   "source": [
    "using namespace std;"
   ]
  },
  {
   "cell_type": "code",
   "execution_count": 11,
   "id": "significant-austin",
   "metadata": {},
   "outputs": [],
   "source": [
    "using namespace cv;"
   ]
  },
  {
   "cell_type": "code",
   "execution_count": 14,
   "id": "lesbian-retailer",
   "metadata": {},
   "outputs": [],
   "source": [
    "void drop_background(Mat& src, Mat& dst, int diameter, unsigned char fill_val){\n",
    "    /*\n",
    "    @brief Extract region of ball\n",
    "    @param src: gray image.\n",
    "    @param dst: foreground gray image, circle outside region is 0.\n",
    "    @param fill_val: fill circle outside with this value.\n",
    "    */\n",
    "    \n",
    "    float rad = (float)diameter / 2.0;\n",
    "    int w = src.cols;\n",
    "    int h = src.rows;\n",
    "    int cx = rad - 1;\n",
    "    int cy = rad - 1;\n",
    "    \n",
    "    src.copyTo(dst);\n",
    "    \n",
    "    for(int y=0; y<h; y++)\n",
    "    {\n",
    "        \n",
    "        for(int x=0; x<w; x++)\n",
    "        {\n",
    "            // calculate distance from center to (x,y)\n",
    "            float dist = sqrt(pow(x+0.5-cx,2) + pow(y+0.5-cy,2));\n",
    "            if(dist > rad)\n",
    "            {\n",
    "                // fill with value\n",
    "                dst.data[y*w+x] = fill_val;\n",
    "            }\n",
    "        }\n",
    "    }\n",
    "    \n",
    "}"
   ]
  },
  {
   "cell_type": "markdown",
   "id": "healthy-voice",
   "metadata": {},
   "source": [
    "``` python\n",
    "def mask(a,b):\n",
    "    return 255 if a>b else 0\n",
    "\n",
    "def thresh(a, b, max_value, C):\n",
    "    return 0 if a> b-C else max_value\n",
    "\n",
    "v_mask = np.vectorize(mask)\n",
    "\n",
    "v_thresh = np.vectorize(thresh)\n",
    "\n",
    "\n",
    "def block_size(size):\n",
    "    block = np.ones((size, size), dtype='d')\n",
    "\n",
    "    # center point of block to ZERO\n",
    "    block[int((size-1)/2), int((size-1)/2)] = 0\n",
    "\n",
    "    return block\n",
    "\n",
    "\n",
    "def get_number_neighbours(mask, block):\n",
    "    '''\n",
    "    unmasked 픽셀 중 이웃픽셀의 개수를 구한다.\n",
    "    '''\n",
    "\n",
    "    mask = mask / 255 # unmasked 픽셀값을 255로 세팅했으니까 255로 나눔.(unmasked 픽셀값을 1로 만들기 위해)\n",
    "    return signal.fftconvolve(mask, block, mode='same')\n",
    "\n",
    "def masked_adpt_th(src, bsize, max_value, th_C):\n",
    "    # mask: in-ball is 255, out-ball is 0\n",
    "    mask = v_mask(src, 0)\n",
    "\n",
    "    block = block_size(bsize)\n",
    "    conv = signal.convolve2d(src, block, mode='same', boundary='symm')\n",
    "    mean_conv = conv / get_number_neighbours(mask, block)\n",
    "    return v_thresh(src, mean_conv, max_value, th_C)\n",
    "````"
   ]
  },
  {
   "cell_type": "code",
   "execution_count": null,
   "id": "rough-voluntary",
   "metadata": {},
   "outputs": [],
   "source": [
    "\n",
    "void masked_adpt_th(Mat& src, int bsize, int max_value, int th_C)\n",
    "{\n",
    "    // v\n",
    "}"
   ]
  },
  {
   "cell_type": "code",
   "execution_count": 3,
   "id": "abroad-graphics",
   "metadata": {
    "scrolled": false
   },
   "outputs": [],
   "source": [
    "void thresholding(cv::Mat& src, cv::Mat& dst, int diameter){\n",
    "    /*\n",
    "    @brief Remove background, thresholding using gaussianblur, masked adaptive thresholding\n",
    "    @param src: gray image.\n",
    "    @param dst: binary image.\n",
    "    @param diameter: diameter of circle.\n",
    "    */\n",
    "\n",
    "    // Remove background\n",
    "\n",
    "    // Thresholding\n",
    "}"
   ]
  },
  {
   "cell_type": "code",
   "execution_count": null,
   "id": "accessible-reynolds",
   "metadata": {},
   "outputs": [],
   "source": []
  }
 ],
 "metadata": {
  "kernelspec": {
   "display_name": "C++14",
   "language": "C++14",
   "name": "xcpp14"
  },
  "language_info": {
   "codemirror_mode": "text/x-c++src",
   "file_extension": ".cpp",
   "mimetype": "text/x-c++src",
   "name": "c++",
   "version": "14"
  }
 },
 "nbformat": 4,
 "nbformat_minor": 5
}
