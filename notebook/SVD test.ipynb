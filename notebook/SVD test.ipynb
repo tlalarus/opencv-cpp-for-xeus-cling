{
 "cells": [
  {
   "cell_type": "code",
   "execution_count": 1,
   "id": "engaged-operation",
   "metadata": {},
   "outputs": [],
   "source": [
    "#pragma cling add_include_path(\"/user/local/include\")"
   ]
  },
  {
   "cell_type": "code",
   "execution_count": 2,
   "id": "breathing-frame",
   "metadata": {},
   "outputs": [],
   "source": [
    "#include \"xeus-cling-includeLib.h\""
   ]
  },
  {
   "cell_type": "code",
   "execution_count": 3,
   "id": "respected-victim",
   "metadata": {},
   "outputs": [],
   "source": [
    "#include <iostream>"
   ]
  },
  {
   "cell_type": "code",
   "execution_count": 4,
   "id": "charitable-tulsa",
   "metadata": {},
   "outputs": [],
   "source": [
    "#include <opencv2/opencv.hpp>"
   ]
  },
  {
   "cell_type": "code",
   "execution_count": 5,
   "id": "varying-newsletter",
   "metadata": {},
   "outputs": [],
   "source": [
    "#include <opencv2/highgui.hpp>"
   ]
  },
  {
   "cell_type": "code",
   "execution_count": 6,
   "id": "bacterial-recognition",
   "metadata": {},
   "outputs": [],
   "source": [
    "#include <opencv2/core.hpp>"
   ]
  },
  {
   "cell_type": "code",
   "execution_count": 7,
   "id": "pleased-attention",
   "metadata": {},
   "outputs": [],
   "source": [
    "#include <opencv2/imgproc.hpp>"
   ]
  },
  {
   "cell_type": "code",
   "execution_count": 8,
   "id": "compliant-winner",
   "metadata": {},
   "outputs": [],
   "source": [
    "using namespace std;"
   ]
  },
  {
   "cell_type": "code",
   "execution_count": 9,
   "id": "specialized-grammar",
   "metadata": {},
   "outputs": [],
   "source": [
    "using namespace cv;"
   ]
  },
  {
   "cell_type": "code",
   "execution_count": 10,
   "id": "burning-experiment",
   "metadata": {},
   "outputs": [],
   "source": [
    "Mat img = imread(\"img/cameraman.jpg\", IMREAD_GRAYSCALE);"
   ]
  },
  {
   "cell_type": "code",
   "execution_count": 14,
   "id": "valuable-grammar",
   "metadata": {},
   "outputs": [],
   "source": [
    "Mat roi1 = img(Range(128,256), Range(128,256));"
   ]
  },
  {
   "cell_type": "code",
   "execution_count": 15,
   "id": "spoken-enzyme",
   "metadata": {},
   "outputs": [
    {
     "name": "stdout",
     "output_type": "stream",
     "text": [
      "128 128"
     ]
    }
   ],
   "source": [
    "cout << roi1.cols << \" \"<< roi1.rows;"
   ]
  },
  {
   "cell_type": "code",
   "execution_count": 16,
   "id": "indie-german",
   "metadata": {},
   "outputs": [],
   "source": [
    "Mat w, u, vt;"
   ]
  },
  {
   "cell_type": "code",
   "execution_count": 17,
   "id": "eight-colleague",
   "metadata": {},
   "outputs": [],
   "source": [
    "Mat roi1_64f;\n",
    "roi1.convertTo(roi1_64f, CV_64F);"
   ]
  },
  {
   "cell_type": "markdown",
   "id": "surrounded-spanish",
   "metadata": {},
   "source": [
    "입력 matrix 형태가 CV_64FC1 or CV_32FC1 둘 중 하나여야 한다."
   ]
  },
  {
   "cell_type": "code",
   "execution_count": 18,
   "id": "posted-bottom",
   "metadata": {},
   "outputs": [],
   "source": [
    "SVD::compute(roi1_64f, w, u, vt, SVD::FULL_UV);"
   ]
  },
  {
   "cell_type": "code",
   "execution_count": 22,
   "id": "enabling-species",
   "metadata": {},
   "outputs": [
    {
     "name": "stdout",
     "output_type": "stream",
     "text": [
      "1 128"
     ]
    }
   ],
   "source": [
    "cout << w.cols <<\" \" <<w.rows;"
   ]
  },
  {
   "cell_type": "code",
   "execution_count": 23,
   "id": "minor-louisiana",
   "metadata": {},
   "outputs": [
    {
     "name": "stdout",
     "output_type": "stream",
     "text": [
      "128 128"
     ]
    }
   ],
   "source": [
    "cout << u.cols <<\" \"<<u.rows;"
   ]
  },
  {
   "cell_type": "code",
   "execution_count": 24,
   "id": "adopted-stranger",
   "metadata": {},
   "outputs": [
    {
     "name": "stdout",
     "output_type": "stream",
     "text": [
      "128 128"
     ]
    }
   ],
   "source": [
    "cout << vt.cols << \" \"<< vt.rows;"
   ]
  },
  {
   "cell_type": "code",
   "execution_count": null,
   "id": "fitting-yesterday",
   "metadata": {},
   "outputs": [],
   "source": []
  }
 ],
 "metadata": {
  "kernelspec": {
   "display_name": "C++11",
   "language": "C++11",
   "name": "xcpp11"
  },
  "language_info": {
   "codemirror_mode": "text/x-c++src",
   "file_extension": ".cpp",
   "mimetype": "text/x-c++src",
   "name": "c++",
   "version": "11"
  }
 },
 "nbformat": 4,
 "nbformat_minor": 5
}
