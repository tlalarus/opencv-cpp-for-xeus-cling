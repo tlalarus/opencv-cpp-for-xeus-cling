{
 "cells": [
  {
   "cell_type": "code",
   "execution_count": 1,
   "id": "designing-insulin",
   "metadata": {},
   "outputs": [],
   "source": [
    "#pragma cling add_include_path(\"/user/local/include\")"
   ]
  },
  {
   "cell_type": "code",
   "execution_count": 2,
   "id": "steady-sherman",
   "metadata": {},
   "outputs": [],
   "source": [
    "#include \"xeus-cling-includeLib.h\""
   ]
  },
  {
   "cell_type": "code",
   "execution_count": 3,
   "id": "printable-solid",
   "metadata": {},
   "outputs": [],
   "source": [
    "#include <iostream>"
   ]
  },
  {
   "cell_type": "code",
   "execution_count": 4,
   "id": "tight-constraint",
   "metadata": {},
   "outputs": [],
   "source": [
    "#include <opencv2/opencv.hpp>"
   ]
  },
  {
   "cell_type": "code",
   "execution_count": 5,
   "id": "grand-agreement",
   "metadata": {},
   "outputs": [],
   "source": [
    "#include <opencv2/highgui.hpp>"
   ]
  },
  {
   "cell_type": "code",
   "execution_count": 6,
   "id": "crucial-jewelry",
   "metadata": {},
   "outputs": [],
   "source": [
    "#include <opencv2/core.hpp>"
   ]
  },
  {
   "cell_type": "code",
   "execution_count": 7,
   "id": "controlling-calgary",
   "metadata": {},
   "outputs": [],
   "source": [
    "#include <opencv2/imgproc.hpp>"
   ]
  },
  {
   "cell_type": "code",
   "execution_count": 8,
   "id": "handmade-married",
   "metadata": {},
   "outputs": [],
   "source": [
    "#include <cmath>"
   ]
  },
  {
   "cell_type": "code",
   "execution_count": 9,
   "id": "important-liberal",
   "metadata": {},
   "outputs": [],
   "source": [
    "#include <algorithm>"
   ]
  },
  {
   "cell_type": "code",
   "execution_count": 10,
   "id": "proper-sequence",
   "metadata": {},
   "outputs": [],
   "source": [
    "using namespace std;"
   ]
  },
  {
   "cell_type": "code",
   "execution_count": 11,
   "id": "incoming-april",
   "metadata": {},
   "outputs": [],
   "source": [
    "using namespace cv;"
   ]
  },
  {
   "cell_type": "code",
   "execution_count": 12,
   "id": "dangerous-program",
   "metadata": {},
   "outputs": [],
   "source": [
    "float maskFunc(float a)\n",
    "{\n",
    "    if(a > 0)\n",
    "    {\n",
    "        return (float)255.0f;\n",
    "    }\n",
    "    else\n",
    "    {\n",
    "        return (float)0.0f;\n",
    "    }\n",
    "}"
   ]
  },
  {
   "cell_type": "markdown",
   "id": "frequent-relaxation",
   "metadata": {},
   "source": [
    "## Mat 객체의 transform 연산 (2D)\n"
   ]
  },
  {
   "cell_type": "markdown",
   "id": "changing-generation",
   "metadata": {},
   "source": [
    "5x5 2차원 matrix 생성"
   ]
  },
  {
   "cell_type": "code",
   "execution_count": 13,
   "id": "statutory-cabin",
   "metadata": {},
   "outputs": [],
   "source": [
    "int data1[25] = {0,0,0,0,0, 1,1,1,1,1, 2,2,2,2,2, 3,3,3,3,3, 4,4,4,4,4};\n",
    "Mat v1(5,5, CV_32SC1, data1);"
   ]
  },
  {
   "cell_type": "code",
   "execution_count": 14,
   "id": "characteristic-strength",
   "metadata": {},
   "outputs": [
    {
     "name": "stdout",
     "output_type": "stream",
     "text": [
      "[0, 0, 0, 0, 0;\n",
      " 1, 1, 1, 1, 1;\n",
      " 2, 2, 2, 2, 2;\n",
      " 3, 3, 3, 3, 3;\n",
      " 4, 4, 4, 4, 4]"
     ]
    }
   ],
   "source": [
    "cout << v1;"
   ]
  },
  {
   "cell_type": "markdown",
   "id": "democratic-precipitation",
   "metadata": {},
   "source": [
    "결과를 저장할 matrix도 입력 matrix와 동일한 형식으로 생성."
   ]
  },
  {
   "cell_type": "code",
   "execution_count": 15,
   "id": "arabic-giving",
   "metadata": {},
   "outputs": [],
   "source": [
    "Mat res(5,5, CV_32SC1);"
   ]
  },
  {
   "cell_type": "markdown",
   "id": "leading-match",
   "metadata": {},
   "source": [
    "v1의 각 원소에 2를 더한 결과를 res 에 저장한다."
   ]
  },
  {
   "cell_type": "code",
   "execution_count": 16,
   "id": "instrumental-administrator",
   "metadata": {},
   "outputs": [],
   "source": [
    "transform(v1.begin<int>(), v1.end<int>(), res.begin<int>(),\n",
    "         [](int a) -> int {return a+2;});"
   ]
  },
  {
   "cell_type": "code",
   "execution_count": 17,
   "id": "internal-router",
   "metadata": {},
   "outputs": [
    {
     "name": "stdout",
     "output_type": "stream",
     "text": [
      "[2, 2, 2, 2, 2;\n",
      " 3, 3, 3, 3, 3;\n",
      " 4, 4, 4, 4, 4;\n",
      " 5, 5, 5, 5, 5;\n",
      " 6, 6, 6, 6, 6]"
     ]
    }
   ],
   "source": [
    "cout << res;"
   ]
  },
  {
   "cell_type": "code",
   "execution_count": 18,
   "id": "retained-certification",
   "metadata": {},
   "outputs": [],
   "source": [
    "int data2[25] = {2,2,2,2,2, 2,2,2,2,2, 2,2,2,2,2, 2,2,2,2,2, 2,2,2,2,2};\n",
    "Mat v2(5,5, CV_32SC1, data2);"
   ]
  },
  {
   "cell_type": "markdown",
   "id": "incorporate-promise",
   "metadata": {},
   "source": [
    "v1, v2 matrix의 각 원소를 비교하고 v1 > v2 이면 255를 res에 대입한다."
   ]
  },
  {
   "cell_type": "code",
   "execution_count": 19,
   "id": "greatest-hearts",
   "metadata": {},
   "outputs": [],
   "source": [
    "transform(v1.begin<int>(), v1.end<int>(), v2.begin<int>(),res.begin<int>(),\n",
    "         [](int a, int b) -> int {if(a>b){return 255;} else{return 0;}});"
   ]
  },
  {
   "cell_type": "code",
   "execution_count": 20,
   "id": "swiss-diameter",
   "metadata": {},
   "outputs": [
    {
     "name": "stdout",
     "output_type": "stream",
     "text": [
      "[0, 0, 0, 0, 0;\n",
      " 0, 0, 0, 0, 0;\n",
      " 0, 0, 0, 0, 0;\n",
      " 255, 255, 255, 255, 255;\n",
      " 255, 255, 255, 255, 255]"
     ]
    }
   ],
   "source": [
    "cout << res;"
   ]
  }
 ],
 "metadata": {
  "kernelspec": {
   "display_name": "C++14",
   "language": "C++14",
   "name": "xcpp14"
  },
  "language_info": {
   "codemirror_mode": "text/x-c++src",
   "file_extension": ".cpp",
   "mimetype": "text/x-c++src",
   "name": "c++",
   "version": "14"
  }
 },
 "nbformat": 4,
 "nbformat_minor": 5
}
