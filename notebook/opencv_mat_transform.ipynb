{
 "cells": [
  {
   "cell_type": "code",
   "execution_count": 1,
   "id": "designing-insulin",
   "metadata": {},
   "outputs": [],
   "source": [
    "#pragma cling add_include_path(\"/user/local/include\")"
   ]
  },
  {
   "cell_type": "code",
   "execution_count": 2,
   "id": "steady-sherman",
   "metadata": {},
   "outputs": [],
   "source": [
    "#include \"xeus-cling-includeLib.h\""
   ]
  },
  {
   "cell_type": "code",
   "execution_count": 3,
   "id": "printable-solid",
   "metadata": {},
   "outputs": [],
   "source": [
    "#include <iostream>"
   ]
  },
  {
   "cell_type": "code",
   "execution_count": 4,
   "id": "tight-constraint",
   "metadata": {},
   "outputs": [],
   "source": [
    "#include <opencv2/opencv.hpp>"
   ]
  },
  {
   "cell_type": "code",
   "execution_count": 5,
   "id": "grand-agreement",
   "metadata": {},
   "outputs": [],
   "source": [
    "#include <opencv2/highgui.hpp>"
   ]
  },
  {
   "cell_type": "code",
   "execution_count": 6,
   "id": "crucial-jewelry",
   "metadata": {},
   "outputs": [],
   "source": [
    "#include <opencv2/core.hpp>"
   ]
  },
  {
   "cell_type": "code",
   "execution_count": 7,
   "id": "controlling-calgary",
   "metadata": {},
   "outputs": [],
   "source": [
    "#include <opencv2/imgproc.hpp>"
   ]
  },
  {
   "cell_type": "code",
   "execution_count": 8,
   "id": "handmade-married",
   "metadata": {},
   "outputs": [],
   "source": [
    "#include <cmath>"
   ]
  },
  {
   "cell_type": "code",
   "execution_count": 9,
   "id": "important-liberal",
   "metadata": {},
   "outputs": [],
   "source": [
    "#include <algorithm>"
   ]
  },
  {
   "cell_type": "code",
   "execution_count": 10,
   "id": "proper-sequence",
   "metadata": {},
   "outputs": [],
   "source": [
    "using namespace std;"
   ]
  },
  {
   "cell_type": "code",
   "execution_count": 11,
   "id": "incoming-april",
   "metadata": {},
   "outputs": [],
   "source": [
    "using namespace cv;"
   ]
  },
  {
   "cell_type": "code",
   "execution_count": 12,
   "id": "dangerous-program",
   "metadata": {},
   "outputs": [],
   "source": [
    "float maskFunc(float a)\n",
    "{\n",
    "    if(a > 0)\n",
    "    {\n",
    "        return (float)255.0f;\n",
    "    }\n",
    "    else\n",
    "    {\n",
    "        return (float)0.0f;\n",
    "    }\n",
    "}"
   ]
  },
  {
   "cell_type": "markdown",
   "id": "frequent-relaxation",
   "metadata": {},
   "source": [
    "## Mat 객체의 transform 연산 (2D)\n"
   ]
  },
  {
   "cell_type": "markdown",
   "id": "changing-generation",
   "metadata": {},
   "source": [
    "5x5 2차원 matrix 생성"
   ]
  },
  {
   "cell_type": "code",
   "execution_count": 13,
   "id": "statutory-cabin",
   "metadata": {},
   "outputs": [],
   "source": [
    "int data1[25] = {0,0,0,0,0, 1,1,1,1,1, 2,2,2,2,2, 3,3,3,3,3, 4,4,4,4,4};\n",
    "Mat v1(5,5, CV_32SC1, data1);"
   ]
  },
  {
   "cell_type": "code",
   "execution_count": 14,
   "id": "characteristic-strength",
   "metadata": {},
   "outputs": [
    {
     "name": "stdout",
     "output_type": "stream",
     "text": [
      "[0, 0, 0, 0, 0;\n",
      " 1, 1, 1, 1, 1;\n",
      " 2, 2, 2, 2, 2;\n",
      " 3, 3, 3, 3, 3;\n",
      " 4, 4, 4, 4, 4]"
     ]
    }
   ],
   "source": [
    "cout << v1;"
   ]
  },
  {
   "cell_type": "markdown",
   "id": "democratic-precipitation",
   "metadata": {},
   "source": [
    "결과를 저장할 matrix도 입력 matrix와 동일한 형식으로 생성."
   ]
  },
  {
   "cell_type": "code",
   "execution_count": 15,
   "id": "arabic-giving",
   "metadata": {},
   "outputs": [],
   "source": [
    "Mat res(5,5, CV_32SC1);"
   ]
  },
  {
   "cell_type": "markdown",
   "id": "leading-match",
   "metadata": {},
   "source": [
    "v1의 각 원소에 2를 더한 결과를 res 에 저장한다."
   ]
  },
  {
   "cell_type": "code",
   "execution_count": 16,
   "id": "instrumental-administrator",
   "metadata": {},
   "outputs": [],
   "source": [
    "transform(v1.begin<int>(), v1.end<int>(), res.begin<int>(),\n",
    "         [](int a) -> int {return a+2;});"
   ]
  },
  {
   "cell_type": "code",
   "execution_count": 17,
   "id": "internal-router",
   "metadata": {},
   "outputs": [
    {
     "name": "stdout",
     "output_type": "stream",
     "text": [
      "[2, 2, 2, 2, 2;\n",
      " 3, 3, 3, 3, 3;\n",
      " 4, 4, 4, 4, 4;\n",
      " 5, 5, 5, 5, 5;\n",
      " 6, 6, 6, 6, 6]"
     ]
    }
   ],
   "source": [
    "cout << res;"
   ]
  },
  {
   "cell_type": "code",
   "execution_count": 18,
   "id": "retained-certification",
   "metadata": {},
   "outputs": [],
   "source": [
    "int data2[25] = {2,2,2,2,2, 2,2,2,2,2, 2,2,2,2,2, 2,2,2,2,2, 2,2,2,2,2};\n",
    "Mat v2(5,5, CV_32SC1, data2);"
   ]
  },
  {
   "cell_type": "markdown",
   "id": "incorporate-promise",
   "metadata": {},
   "source": [
    "v1, v2 matrix의 각 원소를 비교하고 v1 > v2 이면 255를 res에 대입한다."
   ]
  },
  {
   "cell_type": "code",
   "execution_count": 19,
   "id": "greatest-hearts",
   "metadata": {},
   "outputs": [],
   "source": [
    "transform(v1.begin<int>(), v1.end<int>(), v2.begin<int>(),res.begin<int>(),\n",
    "         [](int a, int b) -> int {if(a>b){return 255;} else{return 0;}});"
   ]
  },
  {
   "cell_type": "code",
   "execution_count": 20,
   "id": "swiss-diameter",
   "metadata": {},
   "outputs": [
    {
     "name": "stdout",
     "output_type": "stream",
     "text": [
      "[0, 0, 0, 0, 0;\n",
      " 0, 0, 0, 0, 0;\n",
      " 0, 0, 0, 0, 0;\n",
      " 255, 255, 255, 255, 255;\n",
      " 255, 255, 255, 255, 255]"
     ]
    }
   ],
   "source": [
    "cout << res;"
   ]
  },
  {
   "cell_type": "markdown",
   "id": "lonely-influence",
   "metadata": {},
   "source": [
    "cv::divide 함수는 element-wise 연산이다.(행렬의 나누기와 다름)"
   ]
  },
  {
   "cell_type": "code",
   "execution_count": 21,
   "id": "external-guess",
   "metadata": {},
   "outputs": [],
   "source": [
    "Mat div_mat;\n",
    "cv::divide(res, v1, div_mat);"
   ]
  },
  {
   "cell_type": "code",
   "execution_count": 22,
   "id": "senior-bikini",
   "metadata": {},
   "outputs": [
    {
     "name": "stdout",
     "output_type": "stream",
     "text": [
      "[0, 0, 0, 0, 0;\n",
      " 0, 0, 0, 0, 0;\n",
      " 0, 0, 0, 0, 0;\n",
      " 85, 85, 85, 85, 85;\n",
      " 64, 64, 64, 64, 64]"
     ]
    }
   ],
   "source": [
    "cout << div_mat;"
   ]
  },
  {
   "cell_type": "markdown",
   "id": "protecting-announcement",
   "metadata": {},
   "source": [
    "Mat - scalar 값 계산에는 cv::substract 함수 사용."
   ]
  },
  {
   "cell_type": "code",
   "execution_count": 23,
   "id": "opposite-constant",
   "metadata": {},
   "outputs": [],
   "source": [
    "Mat scalar_mat(div_mat.rows, div_mat.cols, CV_32SC1, cv::Scalar(5));"
   ]
  },
  {
   "cell_type": "code",
   "execution_count": 24,
   "id": "running-legend",
   "metadata": {},
   "outputs": [
    {
     "name": "stdout",
     "output_type": "stream",
     "text": [
      "[5, 5, 5, 5, 5;\n",
      " 5, 5, 5, 5, 5;\n",
      " 5, 5, 5, 5, 5;\n",
      " 5, 5, 5, 5, 5;\n",
      " 5, 5, 5, 5, 5]"
     ]
    }
   ],
   "source": [
    "cout << scalar_mat;"
   ]
  },
  {
   "cell_type": "code",
   "execution_count": 25,
   "id": "tutorial-arrow",
   "metadata": {},
   "outputs": [],
   "source": [
    "Mat sub_mat;\n",
    "cv::subtract(div_mat, scalar_mat, sub_mat);"
   ]
  },
  {
   "cell_type": "code",
   "execution_count": 26,
   "id": "played-topic",
   "metadata": {},
   "outputs": [
    {
     "name": "stdout",
     "output_type": "stream",
     "text": [
      "[-5, -5, -5, -5, -5;\n",
      " -5, -5, -5, -5, -5;\n",
      " -5, -5, -5, -5, -5;\n",
      " 80, 80, 80, 80, 80;\n",
      " 59, 59, 59, 59, 59]"
     ]
    }
   ],
   "source": [
    "cout << sub_mat;"
   ]
  },
  {
   "cell_type": "code",
   "execution_count": 27,
   "id": "paperback-milan",
   "metadata": {},
   "outputs": [],
   "source": [
    "cv::subtract(div_mat, cv::Scalar(10), sub_mat);"
   ]
  },
  {
   "cell_type": "code",
   "execution_count": 28,
   "id": "annual-cheat",
   "metadata": {},
   "outputs": [
    {
     "name": "stdout",
     "output_type": "stream",
     "text": [
      "[-10, -10, -10, -10, -10;\n",
      " -10, -10, -10, -10, -10;\n",
      " -10, -10, -10, -10, -10;\n",
      " 75, 75, 75, 75, 75;\n",
      " 54, 54, 54, 54, 54]"
     ]
    }
   ],
   "source": [
    "cout << sub_mat;"
   ]
  },
  {
   "cell_type": "markdown",
   "id": "funded-deadline",
   "metadata": {},
   "source": [
    "### 구조체 초기화 예시\n",
    "구조체를 멤버로 가지는 구조체도 선언과 동시에 값 초기화 가능."
   ]
  },
  {
   "cell_type": "code",
   "execution_count": 29,
   "id": "deadly-monroe",
   "metadata": {},
   "outputs": [],
   "source": [
    "typedef struct{\n",
    "    cv::Rect region;\n",
    "    cv::Point cpt;\n",
    "    float ldo;\n",
    "}Marker;"
   ]
  },
  {
   "cell_type": "code",
   "execution_count": 30,
   "id": "special-camera",
   "metadata": {},
   "outputs": [],
   "source": [
    "Marker marker_tmp = {cv::Rect(3,3,10,15), cv::Point(5,5), 6.0f};"
   ]
  },
  {
   "cell_type": "code",
   "execution_count": 31,
   "id": "fitting-pressing",
   "metadata": {},
   "outputs": [
    {
     "name": "stdout",
     "output_type": "stream",
     "text": [
      "3 3 10 15\n"
     ]
    }
   ],
   "source": [
    "cout << marker_tmp.region.x << \" \" << marker_tmp.region.y << \" \" << marker_tmp.region.width << \" \" << marker_tmp.region.height << endl;"
   ]
  },
  {
   "cell_type": "code",
   "execution_count": 32,
   "id": "metallic-culture",
   "metadata": {},
   "outputs": [
    {
     "name": "stdout",
     "output_type": "stream",
     "text": [
      "5 5\n"
     ]
    }
   ],
   "source": [
    "cout << marker_tmp.cpt.x << \" \"<< marker_tmp.cpt.y << endl;"
   ]
  },
  {
   "cell_type": "markdown",
   "id": "smaller-driver",
   "metadata": {},
   "source": [
    "## 3. Opencv Mat ROI"
   ]
  },
  {
   "cell_type": "code",
   "execution_count": 53,
   "id": "individual-majority",
   "metadata": {},
   "outputs": [],
   "source": [
    "int data3[50] = {1, 1, 1, 1, 1, 1, 1, 1, 1, 1, \n",
    "                        2, 2, 2, 2, 2, 2, 2, 2, 2, 2,\n",
    "                        3, 3, 3, 3, 3, 3, 3, 3, 3, 3,\n",
    "                        4, 4, 4, 4, 4, 4, 4, 4, 4, 4,\n",
    "                        5, 5, 5, 5, 5, 5, 5, 5, 5, 5};\n",
    "cv::Mat ori(5, 10, CV_32SC1, data3);"
   ]
  },
  {
   "cell_type": "code",
   "execution_count": 54,
   "id": "constitutional-separate",
   "metadata": {},
   "outputs": [
    {
     "name": "stdout",
     "output_type": "stream",
     "text": [
      "[1, 1, 1, 1, 1, 1, 1, 1, 1, 1;\n",
      " 2, 2, 2, 2, 2, 2, 2, 2, 2, 2;\n",
      " 3, 3, 3, 3, 3, 3, 3, 3, 3, 3;\n",
      " 4, 4, 4, 4, 4, 4, 4, 4, 4, 4;\n",
      " 5, 5, 5, 5, 5, 5, 5, 5, 5, 5]"
     ]
    }
   ],
   "source": [
    "cout << ori;"
   ]
  },
  {
   "cell_type": "markdown",
   "id": "lyric-reservoir",
   "metadata": {},
   "source": [
    "roi 지정"
   ]
  },
  {
   "cell_type": "code",
   "execution_count": 55,
   "id": "continental-struggle",
   "metadata": {},
   "outputs": [],
   "source": [
    "cv::Mat roi = ori(cv::Rect(1,1,3,3));"
   ]
  },
  {
   "cell_type": "markdown",
   "id": "polyphonic-recorder",
   "metadata": {},
   "source": [
    "원래 이미지의 첫 원소값 출력"
   ]
  },
  {
   "cell_type": "code",
   "execution_count": 58,
   "id": "unavailable-importance",
   "metadata": {},
   "outputs": [
    {
     "name": "stdout",
     "output_type": "stream",
     "text": [
      "1"
     ]
    }
   ],
   "source": [
    "cv::MatIterator_<int> ori_begin = ori.begin<int>();\n",
    "cout << *ori_begin;"
   ]
  },
  {
   "cell_type": "code",
   "execution_count": 61,
   "id": "generous-denmark",
   "metadata": {},
   "outputs": [
    {
     "name": "stdout",
     "output_type": "stream",
     "text": [
      "1"
     ]
    }
   ],
   "source": [
    "int ori_begin2 = ori.at<int>(0,0);\n",
    "cout << ori_begin2;\n"
   ]
  },
  {
   "cell_type": "markdown",
   "id": "nearby-contributor",
   "metadata": {},
   "source": [
    "roi의 첫 원소값 출력"
   ]
  },
  {
   "cell_type": "code",
   "execution_count": 62,
   "id": "extraordinary-opera",
   "metadata": {},
   "outputs": [
    {
     "name": "stdout",
     "output_type": "stream",
     "text": [
      "[2, 2, 2;\n",
      " 3, 3, 3;\n",
      " 4, 4, 4]"
     ]
    }
   ],
   "source": [
    "cout << roi;"
   ]
  },
  {
   "cell_type": "code",
   "execution_count": 63,
   "id": "suburban-assignment",
   "metadata": {},
   "outputs": [
    {
     "name": "stdout",
     "output_type": "stream",
     "text": [
      "2"
     ]
    }
   ],
   "source": [
    "cv::MatIterator_<int> roi_begin = roi.begin<int>();\n",
    "cout << *roi_begin;"
   ]
  },
  {
   "cell_type": "code",
   "execution_count": 64,
   "id": "rural-mining",
   "metadata": {},
   "outputs": [
    {
     "name": "stdout",
     "output_type": "stream",
     "text": [
      "2"
     ]
    }
   ],
   "source": [
    "int roi_begin2 = roi.at<int>(0,0);\n",
    "cout << roi_begin2;"
   ]
  },
  {
   "cell_type": "raw",
   "id": "unlimited-messaging",
   "metadata": {},
   "source": [
    "ROI 참조 실험"
   ]
  },
  {
   "cell_type": "code",
   "execution_count": 65,
   "id": "dated-experience",
   "metadata": {},
   "outputs": [],
   "source": [
    "roi.at<int>(1,1) = 10;"
   ]
  },
  {
   "cell_type": "code",
   "execution_count": 66,
   "id": "square-hampton",
   "metadata": {},
   "outputs": [
    {
     "name": "stdout",
     "output_type": "stream",
     "text": [
      "[2, 2, 2;\n",
      " 3, 10, 3;\n",
      " 4, 4, 4]"
     ]
    }
   ],
   "source": [
    "cout << roi;"
   ]
  },
  {
   "cell_type": "code",
   "execution_count": 67,
   "id": "tutorial-workshop",
   "metadata": {},
   "outputs": [
    {
     "name": "stdout",
     "output_type": "stream",
     "text": [
      "[1, 1, 1, 1, 1, 1, 1, 1, 1, 1;\n",
      " 2, 2, 2, 2, 2, 2, 2, 2, 2, 2;\n",
      " 3, 3, 10, 3, 3, 3, 3, 3, 3, 3;\n",
      " 4, 4, 4, 4, 4, 4, 4, 4, 4, 4;\n",
      " 5, 5, 5, 5, 5, 5, 5, 5, 5, 5]"
     ]
    }
   ],
   "source": [
    "cout << ori;"
   ]
  },
  {
   "cell_type": "code",
   "execution_count": 68,
   "id": "reflected-commissioner",
   "metadata": {},
   "outputs": [
    {
     "name": "stdout",
     "output_type": "stream",
     "text": [
      "[0, 0]"
     ]
    }
   ],
   "source": [
    "cout << roi.begin<int>().pos();"
   ]
  },
  {
   "cell_type": "code",
   "execution_count": 69,
   "id": "eleven-giving",
   "metadata": {},
   "outputs": [],
   "source": [
    "int e3 = roi.data[0];"
   ]
  },
  {
   "cell_type": "code",
   "execution_count": 70,
   "id": "subsequent-heart",
   "metadata": {},
   "outputs": [
    {
     "name": "stdout",
     "output_type": "stream",
     "text": [
      "2"
     ]
    }
   ],
   "source": [
    "cout << e3;"
   ]
  },
  {
   "cell_type": "code",
   "execution_count": null,
   "id": "nutritional-buffalo",
   "metadata": {},
   "outputs": [],
   "source": []
  }
 ],
 "metadata": {
  "kernelspec": {
   "display_name": "C++14",
   "language": "C++14",
   "name": "xcpp14"
  },
  "language_info": {
   "codemirror_mode": "text/x-c++src",
   "file_extension": ".cpp",
   "mimetype": "text/x-c++src",
   "name": "c++",
   "version": "14"
  }
 },
 "nbformat": 4,
 "nbformat_minor": 5
}
