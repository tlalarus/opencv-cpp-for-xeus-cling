{
 "cells": [
  {
   "cell_type": "markdown",
   "id": "medical-hierarchy",
   "metadata": {},
   "source": [
    "## unique_ptr 사용예제"
   ]
  },
  {
   "cell_type": "code",
   "execution_count": 1,
   "id": "dress-electronics",
   "metadata": {},
   "outputs": [],
   "source": [
    "#include <iostream>"
   ]
  },
  {
   "cell_type": "code",
   "execution_count": 2,
   "id": "understood-schema",
   "metadata": {},
   "outputs": [],
   "source": [
    "#include <memory>"
   ]
  },
  {
   "cell_type": "code",
   "execution_count": 3,
   "id": "authentic-retreat",
   "metadata": {},
   "outputs": [],
   "source": [
    "using namespace std;"
   ]
  },
  {
   "cell_type": "markdown",
   "id": "opponent-prospect",
   "metadata": {},
   "source": [
    "#### 멤버변수로 사용"
   ]
  },
  {
   "cell_type": "code",
   "execution_count": null,
   "id": "acoustic-mozambique",
   "metadata": {},
   "outputs": [],
   "source": [
    "unique_ptr<int[]> my_ptr(new int[5]);"
   ]
  },
  {
   "cell_type": "code",
   "execution_count": 13,
   "id": "ruled-synthetic",
   "metadata": {},
   "outputs": [
    {
     "name": "stderr",
     "output_type": "stream",
     "text": [
      "In file included from input_line_1:1:\n",
      "In file included from /home/minkyung/anaconda3/envs/env-xeus-cling/bin/../lib/gcc/x86_64-conda-linux-gnu/9.3.0/../../../../x86_64-conda-linux-gnu/include/c++/9.3.0/new:40:\n",
      "In file included from /home/minkyung/anaconda3/envs/env-xeus-cling/bin/../lib/gcc/x86_64-conda-linux-gnu/9.3.0/../../../../x86_64-conda-linux-gnu/include/c++/9.3.0/exception:144:\n",
      "In file included from /home/minkyung/anaconda3/envs/env-xeus-cling/bin/../lib/gcc/x86_64-conda-linux-gnu/9.3.0/../../../../x86_64-conda-linux-gnu/include/c++/9.3.0/bits/nested_exception.h:40:\n",
      "In file included from /home/minkyung/anaconda3/envs/env-xeus-cling/bin/../lib/gcc/x86_64-conda-linux-gnu/9.3.0/../../../../x86_64-conda-linux-gnu/include/c++/9.3.0/bits/move.h:55:\n",
      "\u001b[1m/home/minkyung/anaconda3/envs/env-xeus-cling/bin/../lib/gcc/x86_64-conda-linux-gnu/9.3.0/../../../../x86_64-conda-linux-gnu/include/c++/9.3.0/type_traits:114:31: \u001b[0m\u001b[0;1;31merror: \u001b[0m\u001b[1mno member named 'value' in 'std::is_function<std::default_delete<int []> >'\u001b[0m\n",
      "    : public conditional<_B1::value, _B1, __or_<_B2, _B3, _Bn...>>::type\n",
      "\u001b[0;1;32m                         ~~~~~^\n",
      "\u001b[0m\u001b[1m/home/minkyung/anaconda3/envs/env-xeus-cling/bin/../lib/gcc/x86_64-conda-linux-gnu/9.3.0/../../../../x86_64-conda-linux-gnu/include/c++/9.3.0/type_traits:142:36: \u001b[0m\u001b[0;1;30mnote: \u001b[0min instantiation of template class\n",
      "      'std::__or_<std::is_function<std::default_delete<int []> >,\n",
      "      std::is_reference<std::default_delete<int []> >,\n",
      "      std::is_void<std::default_delete<int []> > >' requested here\u001b[0m\n",
      "    : public __bool_constant<!bool(_Pp::value)>\n",
      "\u001b[0;1;32m                                   ^\n",
      "\u001b[0m\u001b[1m/home/minkyung/anaconda3/envs/env-xeus-cling/bin/../lib/gcc/x86_64-conda-linux-gnu/9.3.0/../../../../x86_64-conda-linux-gnu/include/c++/9.3.0/type_traits:600:14: \u001b[0m\u001b[0;1;30mnote: \u001b[0min instantiation of template class\n",
      "      'std::__not_<std::__or_<std::is_function<std::default_delete<int []> >,\n",
      "      std::is_reference<std::default_delete<int []> >,\n",
      "      std::is_void<std::default_delete<int []> > > >' requested here\u001b[0m\n",
      "    : public __not_<__or_<is_function<_Tp>, is_reference<_Tp>,\n",
      "\u001b[0;1;32m             ^\n",
      "\u001b[0m\u001b[1m/home/minkyung/anaconda3/envs/env-xeus-cling/bin/../lib/gcc/x86_64-conda-linux-gnu/9.3.0/../../../../x86_64-conda-linux-gnu/include/c++/9.3.0/type_traits:109:26: \u001b[0m\u001b[0;1;30mnote: \u001b[0min instantiation of template class\n",
      "      'std::is_object<std::default_delete<int []> >' requested here\u001b[0m\n",
      "    : public conditional<_B1::value, _B1, _B2>::type\n",
      "\u001b[0;1;32m                         ^\n",
      "\u001b[0m\u001b[1m/home/minkyung/anaconda3/envs/env-xeus-cling/bin/../lib/gcc/x86_64-conda-linux-gnu/9.3.0/../../../../x86_64-conda-linux-gnu/include/c++/9.3.0/type_traits:637:14: \u001b[0m\u001b[0;1;30mnote: \u001b[0min instantiation of template class\n",
      "      'std::__or_<std::is_object<std::default_delete<int []> >,\n",
      "      std::is_reference<std::default_delete<int []> > >' requested here\u001b[0m\n",
      "    : public __or_<is_object<_Tp>, is_reference<_Tp>>::type\n",
      "\u001b[0;1;32m             ^\n",
      "\u001b[0m\u001b[1m/home/minkyung/anaconda3/envs/env-xeus-cling/bin/../lib/gcc/x86_64-conda-linux-gnu/9.3.0/../../../../x86_64-conda-linux-gnu/include/c++/9.3.0/type_traits:893:33: \u001b[0m\u001b[0;1;30mnote: \u001b[0min instantiation of template class\n",
      "      'std::__is_referenceable<std::default_delete<int []> >' requested here\u001b[0m\n",
      "  template<typename _Tp, bool = __is_referenceable<_Tp>::value>\n",
      "\u001b[0;1;32m                                ^\n",
      "\u001b[0m\u001b[1m/home/minkyung/anaconda3/envs/env-xeus-cling/bin/../lib/gcc/x86_64-conda-linux-gnu/9.3.0/../../../../x86_64-conda-linux-gnu/include/c++/9.3.0/type_traits:908:14: \u001b[0m\u001b[0;1;30mnote: \u001b[0m(skipping 1 context in backtrace; use -ftemplate-backtrace-limit=0 to see all)\u001b[0m\n",
      "    : public __is_copy_constructible_impl<_Tp>\n",
      "\u001b[0;1;32m             ^\n",
      "\u001b[0m\u001b[1m/home/minkyung/anaconda3/envs/env-xeus-cling/bin/../lib/gcc/x86_64-conda-linux-gnu/9.3.0/../../../../x86_64-conda-linux-gnu/include/c++/9.3.0/type_traits:132:14: \u001b[0m\u001b[0;1;30mnote: \u001b[0min instantiation of template class\n",
      "      'std::is_copy_constructible<std::default_delete<int []> >' requested here\u001b[0m\n",
      "    : public conditional<_B1::value, _B2, _B1>::type\n",
      "\u001b[0;1;32m             ^\n",
      "\u001b[0m\u001b[1m/home/minkyung/anaconda3/envs/env-xeus-cling/bin/../lib/gcc/x86_64-conda-linux-gnu/9.3.0/../../../../x86_64-conda-linux-gnu/include/c++/9.3.0/type_traits:2054:41: \u001b[0m\u001b[0;1;30mnote: \u001b[0min instantiation of template class\n",
      "      'std::__and_<std::__and_<std::__or_<std::__or_<std::is_same<int *, int *>,\n",
      "      std::is_same<int *, nullptr_t> >, std::__and_<std::is_pointer<int *>,\n",
      "      std::is_same<int *, int *>, std::is_convertible<int (*)[], int (*)[]> > >\n",
      "      >, std::is_copy_constructible<std::default_delete<int []> > >' requested\n",
      "      here\u001b[0m\n",
      "    using _Require = typename enable_if<__and_<_Cond...>::value>::type;\n",
      "\u001b[0;1;32m                                        ^\n",
      "\u001b[0m\u001b[1m/home/minkyung/anaconda3/envs/env-xeus-cling/bin/../lib/gcc/x86_64-conda-linux-gnu/9.3.0/../../../../x86_64-conda-linux-gnu/include/c++/9.3.0/bits/unique_ptr.h:506:20: \u001b[0m\u001b[0;1;30mnote: \u001b[0min instantiation of template type alias '_Require' requested here\u001b[0m\n",
      "               typename = _Require<__safe_conversion_raw<_Up>,\n",
      "\u001b[0;1;32m                          ^\n",
      "\u001b[0m\u001b[1m/home/minkyung/anaconda3/envs/env-xeus-cling/bin/../lib/gcc/x86_64-conda-linux-gnu/9.3.0/../../../../x86_64-conda-linux-gnu/include/c++/9.3.0/bits/unique_ptr.h:508:7: \u001b[0m\u001b[0;1;30mnote: \u001b[0min instantiation of default argument for 'unique_ptr<int *,\n",
      "      std::default_delete<int []> >' required here\u001b[0m\n",
      "      unique_ptr(_Up __p, const deleter_type& __d) noexcept\n",
      "\u001b[0;1;32m      ^~~~~~~~~~~~~~~~~~~~~~~~~~~~~~~~~~~~~~~~~~~~~~~~~~~~~\n",
      "\u001b[0m\u001b[1minput_line_19:6:27: \u001b[0m\u001b[0;1;30mnote: \u001b[0mwhile substituting deduced template arguments into function template\n",
      "      'unique_ptr' [with _Up = int *, _Del = (no value), $2 = (no value)]\u001b[0m\n",
      "        unique_ptr<int[]> tmp(new int[len], std::default_delete<int[]>());\n",
      "\u001b[0;1;32m                          ^\n",
      "\u001b[0mIn file included from input_line_1:1:\n",
      "In file included from /home/minkyung/anaconda3/envs/env-xeus-cling/bin/../lib/gcc/x86_64-conda-linux-gnu/9.3.0/../../../../x86_64-conda-linux-gnu/include/c++/9.3.0/new:40:\n",
      "In file included from /home/minkyung/anaconda3/envs/env-xeus-cling/bin/../lib/gcc/x86_64-conda-linux-gnu/9.3.0/../../../../x86_64-conda-linux-gnu/include/c++/9.3.0/exception:144:\n",
      "In file included from /home/minkyung/anaconda3/envs/env-xeus-cling/bin/../lib/gcc/x86_64-conda-linux-gnu/9.3.0/../../../../x86_64-conda-linux-gnu/include/c++/9.3.0/bits/nested_exception.h:40:\n",
      "In file included from /home/minkyung/anaconda3/envs/env-xeus-cling/bin/../lib/gcc/x86_64-conda-linux-gnu/9.3.0/../../../../x86_64-conda-linux-gnu/include/c++/9.3.0/bits/move.h:55:\n",
      "\u001b[1m/home/minkyung/anaconda3/envs/env-xeus-cling/bin/../lib/gcc/x86_64-conda-linux-gnu/9.3.0/../../../../x86_64-conda-linux-gnu/include/c++/9.3.0/type_traits:911:58: \u001b[0m\u001b[0;1;31merror: \u001b[0m\u001b[1mno member named 'value' in 'std::__is_referenceable<std::default_delete<int []>\n",
      "      >'\u001b[0m\n",
      "  template<typename _Tp, bool = __is_referenceable<_Tp>::value>\n",
      "\u001b[0;1;32m                                ~~~~~~~~~~~~~~~~~~~~~~~~~^\n",
      "\u001b[0m\u001b[1m/home/minkyung/anaconda3/envs/env-xeus-cling/bin/../lib/gcc/x86_64-conda-linux-gnu/9.3.0/../../../../x86_64-conda-linux-gnu/include/c++/9.3.0/type_traits:926:14: \u001b[0m\u001b[0;1;30mnote: \u001b[0min instantiation of default argument for\n",
      "      '__is_move_constructible_impl<std::default_delete<int []> >' required here\u001b[0m\n",
      "    : public __is_move_constructible_impl<_Tp>\n",
      "\u001b[0;1;32m             ^~~~~~~~~~~~~~~~~~~~~~~~~~~~~~~~~\n",
      "\u001b[0m\u001b[1m/home/minkyung/anaconda3/envs/env-xeus-cling/bin/../lib/gcc/x86_64-conda-linux-gnu/9.3.0/../../../../x86_64-conda-linux-gnu/include/c++/9.3.0/type_traits:132:14: \u001b[0m\u001b[0;1;30mnote: \u001b[0min instantiation of template class\n",
      "      'std::is_move_constructible<std::default_delete<int []> >' requested here\u001b[0m\n",
      "    : public conditional<_B1::value, _B2, _B1>::type\n",
      "\u001b[0;1;32m             ^\n"
     ]
    },
    {
     "name": "stderr",
     "output_type": "stream",
     "text": [
      "\u001b[0m\u001b[1m/home/minkyung/anaconda3/envs/env-xeus-cling/bin/../lib/gcc/x86_64-conda-linux-gnu/9.3.0/../../../../x86_64-conda-linux-gnu/include/c++/9.3.0/type_traits:2054:41: \u001b[0m\u001b[0;1;30mnote: \u001b[0min instantiation of template class\n",
      "      'std::__and_<std::__and_<std::__or_<std::__or_<std::is_same<int *, int *>,\n",
      "      std::is_same<int *, nullptr_t> >, std::__and_<std::is_pointer<int *>,\n",
      "      std::is_same<int *, int *>, std::is_convertible<int (*)[], int (*)[]> > >\n",
      "      >, std::is_move_constructible<std::default_delete<int []> > >' requested\n",
      "      here\u001b[0m\n",
      "    using _Require = typename enable_if<__and_<_Cond...>::value>::type;\n",
      "\u001b[0;1;32m                                        ^\n",
      "\u001b[0m\u001b[1m/home/minkyung/anaconda3/envs/env-xeus-cling/bin/../lib/gcc/x86_64-conda-linux-gnu/9.3.0/../../../../x86_64-conda-linux-gnu/include/c++/9.3.0/bits/unique_ptr.h:520:20: \u001b[0m\u001b[0;1;30mnote: \u001b[0min instantiation of template type alias '_Require' requested here\u001b[0m\n",
      "               typename = _Require<__safe_conversion_raw<_Up>,\n",
      "\u001b[0;1;32m                          ^\n",
      "\u001b[0m\u001b[1m/home/minkyung/anaconda3/envs/env-xeus-cling/bin/../lib/gcc/x86_64-conda-linux-gnu/9.3.0/../../../../x86_64-conda-linux-gnu/include/c++/9.3.0/bits/unique_ptr.h:522:2: \u001b[0m\u001b[0;1;30mnote: \u001b[0min instantiation of default argument for 'unique_ptr<int *,\n",
      "      std::default_delete<int []> >' required here\u001b[0m\n",
      "        unique_ptr(_Up __p,\n",
      "\u001b[0;1;32m        ^~~~~~~~~~~~~~~~~~~\n",
      "\u001b[0m\u001b[1minput_line_19:6:27: \u001b[0m\u001b[0;1;30mnote: \u001b[0mwhile substituting deduced template arguments into function template\n",
      "      'unique_ptr' [with _Up = int *, _Del = (no value), $2 = (no value)]\u001b[0m\n",
      "        unique_ptr<int[]> tmp(new int[len], std::default_delete<int[]>());\n",
      "\u001b[0;1;32m                          ^\n",
      "\u001b[0m\u001b[1minput_line_19:6:27: \u001b[0m\u001b[0;1;31merror: \u001b[0m\u001b[1mno matching constructor for initialization of 'unique_ptr<int []>'\u001b[0m\n",
      "        unique_ptr<int[]> tmp(new int[len], std::default_delete<int[]>());\n",
      "\u001b[0;1;32m                          ^   ~~~~~~~~~~~~~~~~~~~~~~~~~~~~~~~~~~~~~~~~~~\n",
      "\u001b[0m\u001b[1m/home/minkyung/anaconda3/envs/env-xeus-cling/bin/../lib/gcc/x86_64-conda-linux-gnu/9.3.0/../../../../x86_64-conda-linux-gnu/include/c++/9.3.0/bits/unique_ptr.h:508:7: \u001b[0m\u001b[0;1;30mnote: \u001b[0mcandidate template ignored: substitution failure [with _Up = int *, _Del =\n",
      "      std::default_delete<int []>]\u001b[0m\n",
      "      unique_ptr(_Up __p, const deleter_type& __d) noexcept\n",
      "\u001b[0;1;32m      ^\n",
      "\u001b[0m\u001b[1m/home/minkyung/anaconda3/envs/env-xeus-cling/bin/../lib/gcc/x86_64-conda-linux-gnu/9.3.0/../../../../x86_64-conda-linux-gnu/include/c++/9.3.0/bits/unique_ptr.h:522:2: \u001b[0m\u001b[0;1;30mnote: \u001b[0mcandidate template ignored: substitution failure [with _Up = int *, _Del =\n",
      "      std::default_delete<int []>]\u001b[0m\n",
      "        unique_ptr(_Up __p,\n",
      "\u001b[0;1;32m        ^\n",
      "\u001b[0m\u001b[1m/home/minkyung/anaconda3/envs/env-xeus-cling/bin/../lib/gcc/x86_64-conda-linux-gnu/9.3.0/../../../../x86_64-conda-linux-gnu/include/c++/9.3.0/bits/unique_ptr.h:531:2: \u001b[0m\u001b[0;1;30mnote: \u001b[0mcandidate template ignored: substitution failure [with _Up = int *, _Del =\n",
      "      std::default_delete<int []>, _DelUnref = std::default_delete<int []>, $3 =\n",
      "      void]: no member named 'value' in\n",
      "      'std::is_lvalue_reference<std::default_delete<int []> >'\u001b[0m\n",
      "        unique_ptr(_Up,\n",
      "\u001b[0;1;32m        ^\n",
      "\u001b[0m\u001b[1m/home/minkyung/anaconda3/envs/env-xeus-cling/bin/../lib/gcc/x86_64-conda-linux-gnu/9.3.0/../../../../x86_64-conda-linux-gnu/include/c++/9.3.0/bits/unique_ptr.h:476:12: \u001b[0m\u001b[0;1;30mnote: \u001b[0mcandidate constructor template not viable: requires 0 arguments, but 2 were\n",
      "      provided\u001b[0m\n",
      "        constexpr unique_ptr() noexcept\n",
      "\u001b[0;1;32m                  ^\n",
      "\u001b[0m\u001b[1m/home/minkyung/anaconda3/envs/env-xeus-cling/bin/../lib/gcc/x86_64-conda-linux-gnu/9.3.0/../../../../x86_64-conda-linux-gnu/include/c++/9.3.0/bits/unique_ptr.h:493:2: \u001b[0m\u001b[0;1;30mnote: \u001b[0mcandidate constructor template not viable: requires single argument '__p', but 2\n",
      "      arguments were provided\u001b[0m\n",
      "        unique_ptr(_Up __p) noexcept\n",
      "\u001b[0;1;32m        ^\n",
      "\u001b[0m\u001b[1m/home/minkyung/anaconda3/envs/env-xeus-cling/bin/../lib/gcc/x86_64-conda-linux-gnu/9.3.0/../../../../x86_64-conda-linux-gnu/include/c++/9.3.0/bits/unique_ptr.h:541:12: \u001b[0m\u001b[0;1;30mnote: \u001b[0mcandidate constructor template not viable: requires 1 argument, but 2 were\n",
      "      provided\u001b[0m\n",
      "        constexpr unique_ptr(nullptr_t) noexcept\n",
      "\u001b[0;1;32m                  ^\n",
      "\u001b[0m\u001b[1m/home/minkyung/anaconda3/envs/env-xeus-cling/bin/../lib/gcc/x86_64-conda-linux-gnu/9.3.0/../../../../x86_64-conda-linux-gnu/include/c++/9.3.0/bits/unique_ptr.h:550:2: \u001b[0m\u001b[0;1;30mnote: \u001b[0mcandidate constructor template not viable: requires single argument '__u', but 2\n",
      "      arguments were provided\u001b[0m\n",
      "        unique_ptr(unique_ptr<_Up, _Ep>&& __u) noexcept\n",
      "\u001b[0;1;32m        ^\n",
      "\u001b[0m\u001b[1m/home/minkyung/anaconda3/envs/env-xeus-cling/bin/../lib/gcc/x86_64-conda-linux-gnu/9.3.0/../../../../x86_64-conda-linux-gnu/include/c++/9.3.0/bits/unique_ptr.h:689:7: \u001b[0m\u001b[0;1;30mnote: \u001b[0mcandidate constructor not viable: requires 1 argument, but 2 were provided\u001b[0m\n",
      "      unique_ptr(const unique_ptr&) = delete;\n",
      "\u001b[0;1;32m      ^\n",
      "\u001b[0m"
     ]
    },
    {
     "ename": "Interpreter Error",
     "evalue": "",
     "output_type": "error",
     "traceback": [
      "Interpreter Error: "
     ]
    }
   ],
   "source": [
    "class A\n",
    "{\n",
    "public:\n",
    "    A(int len)\n",
    "    {\n",
    "        unique_ptr<int[]> tmp(new int[len], std::default_delete<int[]>());\n",
    "        myPtr = move(tmp);\n",
    "    }\n",
    "private:\n",
    "    unique_ptr<int[]> myPtr;\n",
    "};"
   ]
  },
  {
   "cell_type": "code",
   "execution_count": null,
   "id": "elementary-decimal",
   "metadata": {},
   "outputs": [],
   "source": []
  }
 ],
 "metadata": {
  "kernelspec": {
   "display_name": "C++14",
   "language": "C++14",
   "name": "xcpp14"
  },
  "language_info": {
   "codemirror_mode": "text/x-c++src",
   "file_extension": ".cpp",
   "mimetype": "text/x-c++src",
   "name": "c++",
   "version": "14"
  }
 },
 "nbformat": 4,
 "nbformat_minor": 5
}
