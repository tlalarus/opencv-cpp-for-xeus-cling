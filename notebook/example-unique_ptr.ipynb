{
 "cells": [
  {
   "cell_type": "markdown",
   "id": "medical-hierarchy",
   "metadata": {},
   "source": [
    "## unique_ptr 사용예제"
   ]
  },
  {
   "cell_type": "code",
   "execution_count": 1,
   "id": "dress-electronics",
   "metadata": {},
   "outputs": [],
   "source": [
    "#include <iostream>"
   ]
  },
  {
   "cell_type": "code",
   "execution_count": 2,
   "id": "understood-schema",
   "metadata": {},
   "outputs": [],
   "source": [
    "#include <memory>"
   ]
  },
  {
   "cell_type": "code",
   "execution_count": 3,
   "id": "authentic-retreat",
   "metadata": {},
   "outputs": [],
   "source": [
    "using namespace std;"
   ]
  },
  {
   "cell_type": "markdown",
   "id": "opponent-prospect",
   "metadata": {},
   "source": [
    "#### 멤버변수로 사용"
   ]
  },
  {
   "cell_type": "code",
   "execution_count": 4,
   "id": "acoustic-mozambique",
   "metadata": {},
   "outputs": [],
   "source": [
    "unique_ptr<int[]> my_ptr(new int[5]);"
   ]
  },
  {
   "cell_type": "code",
   "execution_count": 5,
   "id": "ruled-synthetic",
   "metadata": {},
   "outputs": [],
   "source": [
    "class A\n",
    "{\n",
    "public:\n",
    "    A(int len)\n",
    "    {\n",
    "        //unique_ptr<int[]> tmp(new int[len], std::default_delete<int[]>());\n",
    "        unique_ptr<int[]> tmp1(new int[len]);\n",
    "        myPtr = move(tmp1);\n",
    "        \n",
    "        unique_ptr<int[]> tmp2(new int[len]);\n",
    "        yourPtr = move(tmp2);\n",
    "        \n",
    "        m_len = len;\n",
    "        // init myPtr\n",
    "        for(int i=0; i<len; i++)\n",
    "            myPtr[i] = 55;\n",
    "    }\n",
    "    \n",
    "    void copy()\n",
    "    {\n",
    "        // myPtr -> yourPtr\n",
    "        yourPtr = move(myPtr);\n",
    "    }\n",
    "    void copy2()\n",
    "    {\n",
    "        otherPtr = myPtr.release();\n",
    "    }\n",
    "    \n",
    "    void printMyPtr()\n",
    "    {\n",
    "        for(int i=0; i<m_len; i++)\n",
    "        {\n",
    "             cout <<myPtr[i] << \" \";\n",
    "        }\n",
    "        cout << endl;\n",
    "    }\n",
    "    \n",
    "    void printYourPtr()\n",
    "    {\n",
    "        for(int i=0; i<m_len; i++)\n",
    "        {\n",
    "             cout <<yourPtr[i] << \" \";\n",
    "        }\n",
    "        cout << endl;\n",
    "    }\n",
    "    void printOtherPtr()\n",
    "    {\n",
    "        for(int i=0; i<m_len; i++)\n",
    "            cout << otherPtr[i] << \" \";\n",
    "        cout << endl;\n",
    "    }\n",
    "private:\n",
    "    unique_ptr<int[]> myPtr;\n",
    "    unique_ptr<int[]> yourPtr;\n",
    "    int* otherPtr;\n",
    "    \n",
    "    int m_len;\n",
    "};"
   ]
  },
  {
   "cell_type": "code",
   "execution_count": 6,
   "id": "elementary-decimal",
   "metadata": {},
   "outputs": [],
   "source": [
    "A a(10);"
   ]
  },
  {
   "cell_type": "code",
   "execution_count": 7,
   "id": "wireless-determination",
   "metadata": {},
   "outputs": [
    {
     "name": "stdout",
     "output_type": "stream",
     "text": [
      "55 55 55 55 55 55 55 55 55 55 \n"
     ]
    }
   ],
   "source": [
    "a.printMyPtr();"
   ]
  },
  {
   "cell_type": "code",
   "execution_count": 8,
   "id": "happy-exposure",
   "metadata": {},
   "outputs": [
    {
     "name": "stdout",
     "output_type": "stream",
     "text": [
      "-1084987952 21898 0 0 -1 0 0 0 0 0 \n"
     ]
    }
   ],
   "source": [
    "a.printYourPtr();"
   ]
  },
  {
   "cell_type": "code",
   "execution_count": 9,
   "id": "necessary-rapid",
   "metadata": {},
   "outputs": [],
   "source": [
    "a.copy2();"
   ]
  },
  {
   "cell_type": "code",
   "execution_count": 10,
   "id": "ecological-forestry",
   "metadata": {},
   "outputs": [
    {
     "name": "stdout",
     "output_type": "stream",
     "text": [
      "-1084987952 21898 0 0 -1 0 0 0 0 0 \n"
     ]
    }
   ],
   "source": [
    "a.printYourPtr();"
   ]
  },
  {
   "cell_type": "code",
   "execution_count": 11,
   "id": "severe-chrome",
   "metadata": {},
   "outputs": [
    {
     "name": "stdout",
     "output_type": "stream",
     "text": [
      "55 55 55 55 55 55 55 55 55 55 \n"
     ]
    }
   ],
   "source": [
    "a.printOtherPtr();"
   ]
  },
  {
   "cell_type": "markdown",
   "id": "sustainable-intervention",
   "metadata": {},
   "source": [
    "raw pointer to unique_ptr"
   ]
  },
  {
   "cell_type": "code",
   "execution_count": 12,
   "id": "dramatic-divorce",
   "metadata": {},
   "outputs": [],
   "source": [
    "unique_ptr<int[]> arr1(new int[5]);"
   ]
  },
  {
   "cell_type": "code",
   "execution_count": 13,
   "id": "executed-glucose",
   "metadata": {},
   "outputs": [],
   "source": [
    "int* arr2 = new int[5];"
   ]
  },
  {
   "cell_type": "code",
   "execution_count": 14,
   "id": "modified-foundation",
   "metadata": {},
   "outputs": [],
   "source": [
    "for(int i=0; i<5; i++)\n",
    "    arr2[i] = i+10;"
   ]
  },
  {
   "cell_type": "code",
   "execution_count": 15,
   "id": "loving-burton",
   "metadata": {},
   "outputs": [
    {
     "name": "stdout",
     "output_type": "stream",
     "text": [
      "10 11 12 13 14 \n"
     ]
    }
   ],
   "source": [
    "for(int i=0; i<5; i++)\n",
    "    cout << arr2[i] << \" \";\n",
    "cout << endl;"
   ]
  },
  {
   "cell_type": "code",
   "execution_count": 16,
   "id": "secondary-auditor",
   "metadata": {},
   "outputs": [],
   "source": [
    "arr1.reset(arr2);"
   ]
  },
  {
   "cell_type": "code",
   "execution_count": 17,
   "id": "developed-creativity",
   "metadata": {},
   "outputs": [
    {
     "name": "stdout",
     "output_type": "stream",
     "text": [
      "10 11 12 13 14 \n"
     ]
    }
   ],
   "source": [
    "for(int i=0; i<5; i++)\n",
    "    cout << arr1[i] << \" \";\n",
    "cout << endl;"
   ]
  },
  {
   "cell_type": "code",
   "execution_count": 18,
   "id": "acting-police",
   "metadata": {},
   "outputs": [
    {
     "name": "stdout",
     "output_type": "stream",
     "text": [
      "10 11 12 13 14 \n"
     ]
    }
   ],
   "source": [
    "for(int i=0; i<5; i++)\n",
    "    cout << arr2[i] << \" \";\n",
    "cout << endl;"
   ]
  },
  {
   "cell_type": "markdown",
   "id": "incident-relation",
   "metadata": {},
   "source": [
    "가능한 변환이긴 하지만 raw pointer 가 계속 살아있어서 unique_ptr이 무의미 하다.\n",
    "raw pointer를 해제해도 변환한 unique_ptr이 계속 남아있을까?"
   ]
  },
  {
   "cell_type": "code",
   "execution_count": 19,
   "id": "alone-original",
   "metadata": {},
   "outputs": [],
   "source": [
    "delete[] arr2;"
   ]
  },
  {
   "cell_type": "code",
   "execution_count": 20,
   "id": "spoken-estimate",
   "metadata": {},
   "outputs": [
    {
     "name": "stdout",
     "output_type": "stream",
     "text": [
      "-1089636544 21898 -1084611056 21898 32 \n"
     ]
    }
   ],
   "source": [
    "for(int i=0; i<5; i++)\n",
    "    cout << arr1[i] << \" \";\n",
    "cout << endl;"
   ]
  },
  {
   "cell_type": "markdown",
   "id": "close-alert",
   "metadata": {},
   "source": [
    "raw pointer를 해제하면 unique_ptr 도 사라져버림. 그러면 깊은 복사를 해보자"
   ]
  },
  {
   "cell_type": "code",
   "execution_count": 21,
   "id": "involved-purpose",
   "metadata": {},
   "outputs": [],
   "source": [
    "int* arr3 = new int[5];\n",
    "for(int i=0; i<5; i++)\n",
    "    arr3[i] = i+30;"
   ]
  },
  {
   "cell_type": "code",
   "execution_count": 23,
   "id": "occupational-bumper",
   "metadata": {},
   "outputs": [
    {
     "name": "stderr",
     "output_type": "stream",
     "text": [
      "\u001b[1minput_line_29:2:9: \u001b[0m\u001b[0;1;31merror: \u001b[0m\u001b[1mno matching function for call to 'move'\u001b[0m\n",
      " arr1 = move(delete[] arr3);\n",
      "\u001b[0;1;32m        ^~~~\n",
      "\u001b[0m\u001b[1m/home/minkyung/anaconda3/envs/env-xeus-cling/bin/../lib/gcc/x86_64-conda-linux-gnu/9.3.0/../../../../x86_64-conda-linux-gnu/include/c++/9.3.0/bits/move.h:99:5: \u001b[0m\u001b[0;1;30mnote: \u001b[0mcandidate template ignored: substitution failure [with _Tp = void]: cannot form a reference to 'void'\u001b[0m\n",
      "    move(_Tp&& __t) noexcept\n",
      "\u001b[0;1;32m    ^\n",
      "\u001b[0m\u001b[1m/home/minkyung/anaconda3/envs/env-xeus-cling/bin/../lib/gcc/x86_64-conda-linux-gnu/9.3.0/../../../../x86_64-conda-linux-gnu/include/c++/9.3.0/bits/stl_algobase.h:497:5: \u001b[0m\u001b[0;1;30mnote: \u001b[0mcandidate function template not viable: requires 3 arguments, but 1 was provided\u001b[0m\n",
      "    move(_II __first, _II __last, _OI __result)\n",
      "\u001b[0;1;32m    ^\n",
      "\u001b[0m\u001b[1m/home/minkyung/anaconda3/envs/env-xeus-cling/bin/../lib/gcc/x86_64-conda-linux-gnu/9.3.0/../../../../x86_64-conda-linux-gnu/include/c++/9.3.0/bits/stl_deque.h:443:5: \u001b[0m\u001b[0;1;30mnote: \u001b[0mcandidate function template not viable: requires 3 arguments, but 1 was provided\u001b[0m\n",
      "    move(_Deque_iterator<_Tp, _Tp&, _Tp*> __first,\n",
      "\u001b[0;1;32m    ^\n",
      "\u001b[0m\u001b[1m/home/minkyung/anaconda3/envs/env-xeus-cling/bin/../lib/gcc/x86_64-conda-linux-gnu/9.3.0/../../../../x86_64-conda-linux-gnu/include/c++/9.3.0/bits/deque.tcc:1057:5: \u001b[0m\u001b[0;1;30mnote: \u001b[0mcandidate function template not viable: requires 3 arguments, but 1 was provided\u001b[0m\n",
      "    move(_Deque_iterator<_Tp, const _Tp&, const _Tp*> __first,\n",
      "\u001b[0;1;32m    ^\n",
      "\u001b[0m"
     ]
    },
    {
     "ename": "Interpreter Error",
     "evalue": "",
     "output_type": "error",
     "traceback": [
      "Interpreter Error: "
     ]
    }
   ],
   "source": [
    "arr1 = move(delete[] arr3);\n",
    "//arr1.reset(new int(arr3));"
   ]
  },
  {
   "cell_type": "code",
   "execution_count": null,
   "id": "explicit-chess",
   "metadata": {},
   "outputs": [],
   "source": []
  }
 ],
 "metadata": {
  "kernelspec": {
   "display_name": "C++14",
   "language": "C++14",
   "name": "xcpp14"
  },
  "language_info": {
   "codemirror_mode": "text/x-c++src",
   "file_extension": ".cpp",
   "mimetype": "text/x-c++src",
   "name": "c++",
   "version": "14"
  }
 },
 "nbformat": 4,
 "nbformat_minor": 5
}
