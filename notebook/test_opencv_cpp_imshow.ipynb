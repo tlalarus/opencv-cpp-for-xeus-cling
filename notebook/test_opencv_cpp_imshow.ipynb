{
 "cells": [
  {
   "cell_type": "code",
   "execution_count": 1,
   "metadata": {},
   "outputs": [
    {
     "name": "stderr",
     "output_type": "stream",
     "text": [
      "In file included from input_line_7:1:\n",
      "\u001b[1m./opencv.hpp:3:10: \u001b[0m\u001b[0;1;31mfatal error: \u001b[0m\u001b[1m'jupyter/jupyter_opencv_include.h' file not found\u001b[0m\n",
      "#include <jupyter/jupyter_opencv_include.h>\n",
      "\u001b[0;1;32m         ^~~~~~~~~~~~~~~~~~~~~~~~~~~~~~~~~~\n",
      "\u001b[0m"
     ]
    },
    {
     "ename": "Interpreter Error",
     "evalue": "",
     "output_type": "error",
     "traceback": [
      "Interpreter Error: "
     ]
    }
   ],
   "source": [
    "#include \"opencv.hpp\"\n",
    "//#include \"xeus-cling-includeLib.h\"\n",
    "//#include <jupyter/opencv.hpp>\n",
    "using namespace cv;\n",
    "Mat img = imread(\"./test.jpg\");\n",
    "imshow(\"my image\", img);"
   ]
  },
  {
   "cell_type": "code",
   "execution_count": null,
   "metadata": {},
   "outputs": [],
   "source": []
  }
 ],
 "metadata": {
  "kernelspec": {
   "display_name": "C++14",
   "language": "C++14",
   "name": "xcpp14"
  },
  "language_info": {
   "codemirror_mode": "text/x-c++src",
   "file_extension": ".cpp",
   "mimetype": "text/x-c++src",
   "name": "c++",
   "version": "14"
  }
 },
 "nbformat": 4,
 "nbformat_minor": 4
}
