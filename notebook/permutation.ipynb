{
 "cells": [
  {
   "cell_type": "markdown",
   "id": "incident-research",
   "metadata": {},
   "source": [
    "### Permutation Test"
   ]
  },
  {
   "cell_type": "code",
   "execution_count": 1,
   "id": "extraordinary-wagon",
   "metadata": {},
   "outputs": [],
   "source": [
    "#include <iostream>"
   ]
  },
  {
   "cell_type": "code",
   "execution_count": 4,
   "id": "refined-peninsula",
   "metadata": {},
   "outputs": [],
   "source": [
    "#include <cstdio>"
   ]
  },
  {
   "cell_type": "code",
   "execution_count": 5,
   "id": "committed-annex",
   "metadata": {},
   "outputs": [],
   "source": [
    "#include <vector>"
   ]
  },
  {
   "cell_type": "code",
   "execution_count": 6,
   "id": "extreme-bunch",
   "metadata": {},
   "outputs": [],
   "source": [
    "#include <algorithm>"
   ]
  },
  {
   "cell_type": "code",
   "execution_count": 7,
   "id": "answering-latex",
   "metadata": {},
   "outputs": [],
   "source": [
    "using namespace std;"
   ]
  },
  {
   "cell_type": "code",
   "execution_count": 8,
   "id": "fitting-swiss",
   "metadata": {},
   "outputs": [],
   "source": [
    "int permutation(vector<int>& vec, int r)\n",
    "{\n",
    "    reverse(vec.begin()+r, vec.end());\n",
    "    return next_permutation(vec.begin(), vec.end());\n",
    "}"
   ]
  },
  {
   "cell_type": "code",
   "execution_count": 9,
   "id": "catholic-briefing",
   "metadata": {},
   "outputs": [],
   "source": [
    "vector<int> vec;\n",
    "vector<int>::iterator iter;\n",
    "\n",
    "int n = 6;\n",
    "\n",
    "for(int i=0; i<n; i++)\n",
    "{\n",
    "    vec.push_back(i);\n",
    "}"
   ]
  },
  {
   "cell_type": "code",
   "execution_count": 10,
   "id": "empirical-sleep",
   "metadata": {},
   "outputs": [
    {
     "name": "stdout",
     "output_type": "stream",
     "text": [
      "0 1 2 \n",
      "0 1 3 \n",
      "0 1 4 \n",
      "0 1 5 \n",
      "0 2 1 \n",
      "0 2 3 \n",
      "0 2 4 \n",
      "0 2 5 \n",
      "0 3 1 \n",
      "0 3 2 \n",
      "0 3 4 \n",
      "0 3 5 \n",
      "0 4 1 \n",
      "0 4 2 \n",
      "0 4 3 \n",
      "0 4 5 \n",
      "0 5 1 \n",
      "0 5 2 \n",
      "0 5 3 \n",
      "0 5 4 \n",
      "1 0 2 \n",
      "1 0 3 \n",
      "1 0 4 \n",
      "1 0 5 \n",
      "1 2 0 \n",
      "1 2 3 \n",
      "1 2 4 \n",
      "1 2 5 \n",
      "1 3 0 \n",
      "1 3 2 \n",
      "1 3 4 \n",
      "1 3 5 \n",
      "1 4 0 \n",
      "1 4 2 \n",
      "1 4 3 \n",
      "1 4 5 \n",
      "1 5 0 \n",
      "1 5 2 \n",
      "1 5 3 \n",
      "1 5 4 \n",
      "2 0 1 \n",
      "2 0 3 \n",
      "2 0 4 \n",
      "2 0 5 \n",
      "2 1 0 \n",
      "2 1 3 \n",
      "2 1 4 \n",
      "2 1 5 \n",
      "2 3 0 \n",
      "2 3 1 \n",
      "2 3 4 \n",
      "2 3 5 \n",
      "2 4 0 \n",
      "2 4 1 \n",
      "2 4 3 \n",
      "2 4 5 \n",
      "2 5 0 \n",
      "2 5 1 \n",
      "2 5 3 \n",
      "2 5 4 \n",
      "3 0 1 \n",
      "3 0 2 \n",
      "3 0 4 \n",
      "3 0 5 \n",
      "3 1 0 \n",
      "3 1 2 \n",
      "3 1 4 \n",
      "3 1 5 \n",
      "3 2 0 \n",
      "3 2 1 \n",
      "3 2 4 \n",
      "3 2 5 \n",
      "3 4 0 \n",
      "3 4 1 \n",
      "3 4 2 \n",
      "3 4 5 \n",
      "3 5 0 \n",
      "3 5 1 \n",
      "3 5 2 \n",
      "3 5 4 \n",
      "4 0 1 \n",
      "4 0 2 \n",
      "4 0 3 \n",
      "4 0 5 \n",
      "4 1 0 \n",
      "4 1 2 \n",
      "4 1 3 \n",
      "4 1 5 \n",
      "4 2 0 \n",
      "4 2 1 \n",
      "4 2 3 \n",
      "4 2 5 \n",
      "4 3 0 \n",
      "4 3 1 \n",
      "4 3 2 \n",
      "4 3 5 \n",
      "4 5 0 \n",
      "4 5 1 \n",
      "4 5 2 \n",
      "4 5 3 \n",
      "5 0 1 \n",
      "5 0 2 \n",
      "5 0 3 \n",
      "5 0 4 \n",
      "5 1 0 \n",
      "5 1 2 \n",
      "5 1 3 \n",
      "5 1 4 \n",
      "5 2 0 \n",
      "5 2 1 \n",
      "5 2 3 \n",
      "5 2 4 \n",
      "5 3 0 \n",
      "5 3 1 \n",
      "5 3 2 \n",
      "5 3 4 \n",
      "5 4 0 \n",
      "5 4 1 \n",
      "5 4 2 \n",
      "5 4 3 \n"
     ]
    }
   ],
   "source": [
    "int r = 3;\n",
    "while(1)\n",
    "{\n",
    "    for(int i=0; i<r; i++)\n",
    "    {\n",
    "        cout <<vec[i] << \" \";\n",
    "    }\n",
    "    cout << endl;\n",
    "    \n",
    "    if(!permutation(vec, r))\n",
    "        break;\n",
    "}"
   ]
  },
  {
   "cell_type": "markdown",
   "id": "bright-arrival",
   "metadata": {},
   "source": [
    "#### int형 1차원 벡터와 r(nPr 중 뽑아낼 개수 r임)을 입력하면 모든 경우의 수를 dst에 입력한다."
   ]
  },
  {
   "cell_type": "code",
   "execution_count": 11,
   "id": "purple-amount",
   "metadata": {},
   "outputs": [],
   "source": [
    "void perm(vector<int>& vec, vector<vector<int>>& dst, int r)\n",
    "{\n",
    "    while(1)\n",
    "    {\n",
    "        vector<int> indice;\n",
    "        for(int i=0; i<r; i++)\n",
    "        {\n",
    "            indice.push_back(vec[i]);\n",
    "        }\n",
    "        dst.push_back(indice);\n",
    "        \n",
    "        if(!permutation(vec, r))\n",
    "            break;\n",
    "    }\n",
    "}"
   ]
  },
  {
   "cell_type": "code",
   "execution_count": 12,
   "id": "swiss-presentation",
   "metadata": {},
   "outputs": [],
   "source": [
    "vector<int> test;\n",
    "for(int i=0; i<5; i++)\n",
    "{\n",
    "    test.push_back(i+1);\n",
    "}"
   ]
  },
  {
   "cell_type": "code",
   "execution_count": 13,
   "id": "massive-scheme",
   "metadata": {},
   "outputs": [],
   "source": [
    "vector<vector<int>> perm_vec;"
   ]
  },
  {
   "cell_type": "code",
   "execution_count": 14,
   "id": "athletic-factory",
   "metadata": {},
   "outputs": [],
   "source": [
    "perm(test, perm_vec, 3);"
   ]
  },
  {
   "cell_type": "code",
   "execution_count": 15,
   "id": "colored-passion",
   "metadata": {},
   "outputs": [
    {
     "name": "stdout",
     "output_type": "stream",
     "text": [
      "60"
     ]
    }
   ],
   "source": [
    "cout << perm_vec.size();"
   ]
  },
  {
   "cell_type": "code",
   "execution_count": 20,
   "id": "quick-duncan",
   "metadata": {},
   "outputs": [
    {
     "name": "stdout",
     "output_type": "stream",
     "text": [
      "1 2 3 \n",
      "1 2 4 \n",
      "1 2 5 \n",
      "1 3 2 \n",
      "1 3 4 \n",
      "1 3 5 \n",
      "1 4 2 \n",
      "1 4 3 \n",
      "1 4 5 \n",
      "1 5 2 \n",
      "1 5 3 \n",
      "1 5 4 \n",
      "2 1 3 \n",
      "2 1 4 \n",
      "2 1 5 \n",
      "2 3 1 \n",
      "2 3 4 \n",
      "2 3 5 \n",
      "2 4 1 \n",
      "2 4 3 \n",
      "2 4 5 \n",
      "2 5 1 \n",
      "2 5 3 \n",
      "2 5 4 \n",
      "3 1 2 \n",
      "3 1 4 \n",
      "3 1 5 \n",
      "3 2 1 \n",
      "3 2 4 \n",
      "3 2 5 \n",
      "3 4 1 \n",
      "3 4 2 \n",
      "3 4 5 \n",
      "3 5 1 \n",
      "3 5 2 \n",
      "3 5 4 \n",
      "4 1 2 \n",
      "4 1 3 \n",
      "4 1 5 \n",
      "4 2 1 \n",
      "4 2 3 \n",
      "4 2 5 \n",
      "4 3 1 \n",
      "4 3 2 \n",
      "4 3 5 \n",
      "4 5 1 \n",
      "4 5 2 \n",
      "4 5 3 \n",
      "5 1 2 \n",
      "5 1 3 \n",
      "5 1 4 \n",
      "5 2 1 \n",
      "5 2 3 \n",
      "5 2 4 \n",
      "5 3 1 \n",
      "5 3 2 \n",
      "5 3 4 \n",
      "5 4 1 \n",
      "5 4 2 \n",
      "5 4 3 \n"
     ]
    }
   ],
   "source": [
    "for(int i=0; i< perm_vec.size(); i++)\n",
    "{\n",
    "    for(int j=0; j<perm_vec[i].size(); j++)\n",
    "    {\n",
    "        cout << perm_vec[i][j] << \" \";\n",
    "    }\n",
    "    cout << endl;\n",
    "}"
   ]
  },
  {
   "cell_type": "code",
   "execution_count": 19,
   "id": "frank-missile",
   "metadata": {},
   "outputs": [
    {
     "name": "stderr",
     "output_type": "stream",
     "text": [
      "\u001b[1minput_line_25:2:15: \u001b[0m\u001b[0;1;31merror: \u001b[0m\u001b[1mcannot increment value of type '__gnu_cxx::__normal_iterator<std::vector<int,\n",
      "      std::allocator<int> > *, std::vector<std::vector<int, std::allocator<int>\n",
      "      >, std::allocator<std::vector<int, std::allocator<int> > > > >'\u001b[0m\n",
      " for(auto row : perm_vec)\n",
      "\u001b[0;1;32m              ^\n",
      "\u001b[0m\u001b[1minput_line_25:2:17: \u001b[0m\u001b[0;1;30mnote: \u001b[0min implicit call to 'operator++' for iterator of type\n",
      "      'std::vector<std::vector<int, std::allocator<int> >,\n",
      "      std::allocator<std::vector<int, std::allocator<int> > > >'\u001b[0m\n",
      " for(auto row : perm_vec)\n",
      "\u001b[0;1;32m                ^~~~~~~~\n",
      "\u001b[0m\u001b[1m/home/minkyung/anaconda3/envs/env-xeus-cling/bin/../lib/gcc/x86_64-conda-linux-gnu/9.3.0/../../../../x86_64-conda-linux-gnu/include/c++/9.3.0/bits/stl_vector.h:808:7: \u001b[0m\u001b[0;1;30mnote: \u001b[0mselected 'begin' function with iterator type 'std::vector<std::vector<int,\n",
      "      std::allocator<int> >, std::allocator<std::vector<int, std::allocator<int>\n",
      "      > > >::iterator' (aka '__normal_iterator<std::vector<int,\n",
      "      std::allocator<int> > *, std::vector<std::vector<int, std::allocator<int>\n",
      "      >, std::allocator<std::vector<int, std::allocator<int> > > > >')\u001b[0m\n",
      "      begin() _GLIBCXX_NOEXCEPT\n",
      "\u001b[0;1;32m      ^\n",
      "\u001b[0m"
     ]
    },
    {
     "ename": "Interpreter Error",
     "evalue": "",
     "output_type": "error",
     "traceback": [
      "Interpreter Error: "
     ]
    }
   ],
   "source": [
    "for(auto row : perm_vec)\n",
    "{\n",
    "    for(auto elem : row)\n",
    "    {\n",
    "        cout << elem << \" \";\n",
    "    }\n",
    "    cout << endl;\n",
    "}"
   ]
  },
  {
   "cell_type": "code",
   "execution_count": null,
   "id": "thousand-boring",
   "metadata": {},
   "outputs": [],
   "source": []
  }
 ],
 "metadata": {
  "kernelspec": {
   "display_name": "C++14",
   "language": "C++14",
   "name": "xcpp14"
  },
  "language_info": {
   "codemirror_mode": "text/x-c++src",
   "file_extension": ".cpp",
   "mimetype": "text/x-c++src",
   "name": "c++",
   "version": "14"
  }
 },
 "nbformat": 4,
 "nbformat_minor": 5
}
