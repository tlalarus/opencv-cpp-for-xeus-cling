{
 "cells": [
  {
   "cell_type": "markdown",
   "id": "trained-concentrate",
   "metadata": {},
   "source": [
    "ximea-sample\n",
    "===\n",
    "\n",
    "SpinSensor의 moving ball 영상 취득을 위한 프로그램 입니다."
   ]
  },
  {
   "cell_type": "markdown",
   "id": "abroad-brief",
   "metadata": {},
   "source": [
    "## 프로그램 사용법 "
   ]
  },
  {
   "cell_type": "markdown",
   "id": "addressed-model",
   "metadata": {},
   "source": [
    "- `sudo tee /sys/module/usbcore/parameters/usbfs_memory_mb`\n",
    "- `sudo ./ximea-sample [SHOT_STORAGE_DIRPATH]`"
   ]
  },
  {
   "cell_type": "markdown",
   "id": "guided-rings",
   "metadata": {},
   "source": []
  },
  {
   "cell_type": "code",
   "execution_count": null,
   "id": "sunrise-dutch",
   "metadata": {},
   "outputs": [],
   "source": []
  },
  {
   "cell_type": "code",
   "execution_count": null,
   "id": "literary-lesbian",
   "metadata": {},
   "outputs": [],
   "source": []
  }
 ],
 "metadata": {
  "kernelspec": {
   "display_name": "Python 3",
   "language": "python",
   "name": "python3"
  },
  "language_info": {
   "codemirror_mode": {
    "name": "ipython",
    "version": 3
   },
   "file_extension": ".py",
   "mimetype": "text/x-python",
   "name": "python",
   "nbconvert_exporter": "python",
   "pygments_lexer": "ipython3",
   "version": "3.9.2"
  }
 },
 "nbformat": 4,
 "nbformat_minor": 5
}
