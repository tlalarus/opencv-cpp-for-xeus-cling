{
 "cells": [
  {
   "cell_type": "code",
   "execution_count": 1,
   "id": "received-motor",
   "metadata": {},
   "outputs": [],
   "source": [
    "#include <iostream>"
   ]
  },
  {
   "cell_type": "code",
   "execution_count": 2,
   "id": "prescribed-advertiser",
   "metadata": {},
   "outputs": [],
   "source": [
    "using namespace std;"
   ]
  },
  {
   "cell_type": "markdown",
   "id": "flush-beverage",
   "metadata": {},
   "source": [
    "## enumerate 상수 조합 테스트 "
   ]
  },
  {
   "cell_type": "code",
   "execution_count": 3,
   "id": "abroad-anthropology",
   "metadata": {},
   "outputs": [],
   "source": [
    "enum class\n",
    "CamParam{\n",
    "    IMG_FORMAT,\n",
    "    ZERO_ROT,\n",
    "    OFFSET_X,\n",
    "    OFFSET_Y,\n",
    "    WIDTH,\n",
    "    HEIGHT,\n",
    "    TIMING_MODE,\n",
    "    TARGET_FPS,\n",
    "    EXPOSURE,\n",
    "    BUFFER_POLICY,\n",
    "\n",
    "    \n",
    "    MAX\n",
    "};"
   ]
  },
  {
   "cell_type": "code",
   "execution_count": 5,
   "id": "twelve-testing",
   "metadata": {},
   "outputs": [],
   "source": [
    "enum class\n",
    "ParamModifier{\n",
    "    INFO_MIN,\n",
    "    INFO_MAX,\n",
    "    INFO_INCREMENT,\n",
    "    MAX\n",
    "};"
   ]
  },
  {
   "cell_type": "code",
   "execution_count": 6,
   "id": "expressed-triple",
   "metadata": {},
   "outputs": [],
   "source": [
    "int val = 0;"
   ]
  },
  {
   "cell_type": "code",
   "execution_count": 7,
   "id": "spread-deviation",
   "metadata": {},
   "outputs": [
    {
     "name": "stdout",
     "output_type": "stream",
     "text": [
      "0"
     ]
    }
   ],
   "source": [
    "cout << val;"
   ]
  },
  {
   "cell_type": "code",
   "execution_count": 12,
   "id": "miniature-drawing",
   "metadata": {},
   "outputs": [
    {
     "name": "stderr",
     "output_type": "stream",
     "text": [
      "\u001b[1minput_line_18:2:41: \u001b[0m\u001b[0;1;31merror: \u001b[0m\u001b[1mexpected ')'\u001b[0m\n",
      " val = static_cast<int>(CamParam::WIDTH CamParam::HEIGHT);\n",
      "\u001b[0;1;32m                                        ^\n",
      "\u001b[0m\u001b[1minput_line_18:2:24: \u001b[0m\u001b[0;1;30mnote: \u001b[0mto match this '('\u001b[0m\n",
      " val = static_cast<int>(CamParam::WIDTH CamParam::HEIGHT);\n",
      "\u001b[0;1;32m                       ^\n",
      "\u001b[0m"
     ]
    },
    {
     "ename": "Interpreter Error",
     "evalue": "",
     "output_type": "error",
     "traceback": [
      "Interpreter Error: "
     ]
    }
   ],
   "source": [
    "val = static_cast<int>(CamParam::WIDTH CamParam::HEIGHT);"
   ]
  },
  {
   "cell_type": "code",
   "execution_count": 11,
   "id": "electric-hungary",
   "metadata": {},
   "outputs": [
    {
     "name": "stdout",
     "output_type": "stream",
     "text": [
      "4"
     ]
    }
   ],
   "source": [
    "cout << val;\n"
   ]
  },
  {
   "cell_type": "code",
   "execution_count": null,
   "id": "informed-broad",
   "metadata": {},
   "outputs": [],
   "source": []
  }
 ],
 "metadata": {
  "kernelspec": {
   "display_name": "C++11",
   "language": "C++11",
   "name": "xcpp11"
  },
  "language_info": {
   "codemirror_mode": "text/x-c++src",
   "file_extension": ".cpp",
   "mimetype": "text/x-c++src",
   "name": "c++",
   "version": "11"
  }
 },
 "nbformat": 4,
 "nbformat_minor": 5
}
